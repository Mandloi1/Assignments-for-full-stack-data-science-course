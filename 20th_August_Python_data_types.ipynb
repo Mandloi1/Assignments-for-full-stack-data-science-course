{
 "cells": [
  {
   "cell_type": "code",
   "execution_count": null,
   "id": "47d2fa16-364f-427e-a144-85463ded99b7",
   "metadata": {},
   "outputs": [],
   "source": [
    "#TOPIC: String Based Assignment Problem"
   ]
  },
  {
   "cell_type": "code",
   "execution_count": 4,
   "id": "670de98a-7c1d-4d6d-aa77-4c8ee932434a",
   "metadata": {},
   "outputs": [
    {
     "name": "stdout",
     "output_type": "stream",
     "text": [
      "sllikswp\n"
     ]
    }
   ],
   "source": [
    "#1. Write a program to reverse a string.\n",
    "str1=\"pwskills\"\n",
    "print(str1[::-1])"
   ]
  },
  {
   "cell_type": "code",
   "execution_count": 6,
   "id": "cff0a984-6cce-4422-a405-634b4136d896",
   "metadata": {},
   "outputs": [
    {
     "name": "stdout",
     "output_type": "stream",
     "text": [
      "sllikswp si eman ym\n"
     ]
    }
   ],
   "source": [
    "str1=\"my name is pwskills\"\n",
    "str2=\"\"\n",
    "for i in str1:\n",
    "    str2=i+str2\n",
    "print(str2)"
   ]
  },
  {
   "cell_type": "code",
   "execution_count": 8,
   "id": "a46e6c74-26e7-4256-8842-fb91080517a9",
   "metadata": {},
   "outputs": [
    {
     "name": "stdin",
     "output_type": "stream",
     "text": [
      "enter the string malayalam\n"
     ]
    },
    {
     "name": "stdout",
     "output_type": "stream",
     "text": [
      "string is palindrom\n"
     ]
    }
   ],
   "source": [
    "#2. Check if a string is a palindrome.\n",
    "str1=input(\"enter the string\")\n",
    "if str1==str1[::-1]:\n",
    "    print(\"string is palindrom\")\n",
    "else:\n",
    "    print(\"string is not palindrom\")"
   ]
  },
  {
   "cell_type": "code",
   "execution_count": 9,
   "id": "73f207b2-aaf5-437b-a869-c50d21ab92f5",
   "metadata": {},
   "outputs": [
    {
     "name": "stdout",
     "output_type": "stream",
     "text": [
      "PWSKILLS\n"
     ]
    }
   ],
   "source": [
    "#3. Convert a string to uppercase.\n",
    "str1=\"pwskills\"\n",
    "print(str1.upper())"
   ]
  },
  {
   "cell_type": "code",
   "execution_count": 10,
   "id": "913e746b-af1b-445c-9c7d-3894514ff4ac",
   "metadata": {},
   "outputs": [
    {
     "name": "stdout",
     "output_type": "stream",
     "text": [
      "pwskills\n"
     ]
    }
   ],
   "source": [
    "#4. Convert a string to lowercase.\n",
    "str1=\"PWSKILLS\"\n",
    "print(str1.lower())\n"
   ]
  },
  {
   "cell_type": "code",
   "execution_count": 13,
   "id": "bd318daa-6669-4ebd-9845-e5071a082b96",
   "metadata": {},
   "outputs": [
    {
     "name": "stdout",
     "output_type": "stream",
     "text": [
      "13\n"
     ]
    }
   ],
   "source": [
    "#5. Count the number of vowels in a string.\n",
    "str1=\"ThIs course is Full stack data scine pro batch\"\n",
    "str1=str1.lower()\n",
    "count_v=0\n",
    "for i in str1:\n",
    "    if i in [\"a\",\"e\",\"i\",\"o\",\"u\"]:\n",
    "        count_v+=1\n",
    "print(count_v)"
   ]
  },
  {
   "cell_type": "code",
   "execution_count": 14,
   "id": "12358c4f-0922-4add-91a8-171f3b2e5c96",
   "metadata": {},
   "outputs": [
    {
     "name": "stdout",
     "output_type": "stream",
     "text": [
      "25\n"
     ]
    }
   ],
   "source": [
    "#6. Count the number of consonants in a string.\n",
    "str1=\"ThIs course is Full stack data scine pro batch\"\n",
    "str1=str1.lower()\n",
    "count_v=0\n",
    "consonants=set(\"bcdfghjklmnpqrstvwxyz\")\n",
    "for i in str1:\n",
    "    if i in consonants:\n",
    "        count_v+=1\n",
    "print(count_v)"
   ]
  },
  {
   "cell_type": "code",
   "execution_count": 16,
   "id": "c1182d5f-a241-407e-97a8-7fca60192f57",
   "metadata": {},
   "outputs": [
    {
     "name": "stdout",
     "output_type": "stream",
     "text": [
      "ThIscourseisFullstackdatascineprobatch\n"
     ]
    }
   ],
   "source": [
    "#7. Remove all whitespaces from a string.\n",
    "str1=\"ThIs course is Full stack data scine pro batch\"\n",
    "print(str1.replace(\" \",\"\"))"
   ]
  },
  {
   "cell_type": "code",
   "execution_count": 18,
   "id": "5f26d75b-520b-42e4-82aa-02e605b39925",
   "metadata": {},
   "outputs": [
    {
     "name": "stdout",
     "output_type": "stream",
     "text": [
      "46\n"
     ]
    }
   ],
   "source": [
    "#8. Find the length of a string without using the `len()` function.\n",
    "str1=\"ThIs course is Full stack data scine pro batch\"\n",
    "str_len=0\n",
    "for i in str1:\n",
    "    str_len+=1\n",
    "print(str_len)"
   ]
  },
  {
   "cell_type": "code",
   "execution_count": 1,
   "id": "71d6d5e1-0bf7-45e6-9f34-1e997256b454",
   "metadata": {},
   "outputs": [
    {
     "name": "stdout",
     "output_type": "stream",
     "text": [
      "full is present in string\n"
     ]
    }
   ],
   "source": [
    "#9. Check if a string contains a specific word.\n",
    "str1=\"ThIs course is Full stack data scine pro batch\"\n",
    "str_word=\"full\"\n",
    "str1=str1.lower()\n",
    "if str_word in str1:\n",
    "    print(\"full is present in string\")\n",
    "else:\n",
    "    print(\"full is not present in string\")"
   ]
  },
  {
   "cell_type": "code",
   "execution_count": 3,
   "id": "86d3cb6d-5905-4594-bb96-54b574c66e47",
   "metadata": {},
   "outputs": [
    {
     "name": "stdout",
     "output_type": "stream",
     "text": [
      "this course is full stack data science pro batch\n"
     ]
    }
   ],
   "source": [
    "#10. Replace a word in a string with another word.\n",
    "str1=\"ThIs course is Full stack data scine pro batch\"\n",
    "str1=str1.lower()\n",
    "print(str1.replace(\"scine\",\"science\"))"
   ]
  },
  {
   "cell_type": "code",
   "execution_count": 4,
   "id": "c270a9c8-b19b-4ba7-92de-f16292de75c9",
   "metadata": {},
   "outputs": [
    {
     "name": "stdout",
     "output_type": "stream",
     "text": [
      "3\n"
     ]
    }
   ],
   "source": [
    "#11. Count the occurrences of a word in a string.\n",
    "str1=\"ThIs course in pwskills is Full stack data pwskills scine pro batch pwskills\"\n",
    "str1=str1.lower()\n",
    "words_str1=str1.split()\n",
    "target_word=\"pwskills\"\n",
    "count=0\n",
    "for word in words_str1:\n",
    " if word==target_word:\n",
    "    count+=1\n",
    "print(count)    "
   ]
  },
  {
   "cell_type": "code",
   "execution_count": 12,
   "id": "ae2181ed-37a7-49e9-b57c-0d9d7b4509c8",
   "metadata": {},
   "outputs": [
    {
     "name": "stdout",
     "output_type": "stream",
     "text": [
      "15\n"
     ]
    }
   ],
   "source": [
    "#12. Find the first occurrence of a word in a string.\n",
    "str1=\"ThIs course in pwskills is Full stack data pwskills scine pro batch pwskills\"\n",
    "str1=str1.lower()\n",
    "print(str1.find(\"pwskills\"))"
   ]
  },
  {
   "cell_type": "code",
   "execution_count": 13,
   "id": "a6e10416-1ceb-48c1-9b7f-22122d93ff10",
   "metadata": {},
   "outputs": [
    {
     "name": "stdout",
     "output_type": "stream",
     "text": [
      "68\n"
     ]
    }
   ],
   "source": [
    "#. Find the last occurrence of a word in a string.\n",
    "str1=\"ThIs course in pwskills is Full stack data pwskills scine pro batch pwskills\"\n",
    "str1=str1.lower()\n",
    "print(str1.rfind(\"pwskills\"))"
   ]
  },
  {
   "cell_type": "code",
   "execution_count": 14,
   "id": "16a4bbab-1e08-45bc-bf97-31f727c97d8d",
   "metadata": {},
   "outputs": [
    {
     "name": "stdout",
     "output_type": "stream",
     "text": [
      "['ThIs', 'course', 'in', 'pwskills', 'is', 'Full', 'stack', 'data', 'pwskills', 'scine', 'pro', 'batch', 'pwskills']\n"
     ]
    }
   ],
   "source": [
    "#14. Split a string into a list of words.\n",
    "str1=\"ThIs course in pwskills is Full stack data pwskills scine pro batch pwskills\"\n",
    "print(str1.split())"
   ]
  },
  {
   "cell_type": "code",
   "execution_count": 17,
   "id": "45935bbf-2e3f-4478-b259-b9dbc964eb2a",
   "metadata": {},
   "outputs": [
    {
     "name": "stdout",
     "output_type": "stream",
     "text": [
      "this is pwskills class\n"
     ]
    }
   ],
   "source": [
    "#15. Join a list of words into a string.\n",
    "words=[\"this\",\"is\",\"pwskills\",\"class\"]\n",
    "string=\" \".join(words)\n",
    "print(string)"
   ]
  },
  {
   "cell_type": "code",
   "execution_count": 18,
   "id": "6d6708dd-cc7b-4b7b-a236-315420993df5",
   "metadata": {},
   "outputs": [
    {
     "name": "stdout",
     "output_type": "stream",
     "text": [
      "ThIs_course_in_pwskills_is_Full_stack_data_pwskills_scine_pro_batch_pwskills\n"
     ]
    }
   ],
   "source": [
    "#16. Convert a string where words are separated by spaces to one where words are separated by underscores.\n",
    "str1=\"ThIs course in pwskills is Full stack data pwskills scine pro batch pwskills\"\n",
    "str2=str1.replace(\" \",\"_\")\n",
    "print(str2)\n"
   ]
  },
  {
   "cell_type": "code",
   "execution_count": 26,
   "id": "bbb98197-acc2-4095-a33d-d202e14f43f8",
   "metadata": {},
   "outputs": [
    {
     "name": "stdout",
     "output_type": "stream",
     "text": [
      "True\n"
     ]
    }
   ],
   "source": [
    "#17. Check if a string starts with a specific word or phrase.\n",
    "str1=\"ThIs course in pwskills is Full stack data pwskills scine pro batch pwskills\"\n",
    "print(str1.startswith(\"ThIs\"))"
   ]
  },
  {
   "cell_type": "code",
   "execution_count": 29,
   "id": "4cc66643-0374-4926-a71d-c172a6915068",
   "metadata": {},
   "outputs": [
    {
     "name": "stdout",
     "output_type": "stream",
     "text": [
      "True\n"
     ]
    }
   ],
   "source": [
    "#18. Check if a string ends with a specific word or phrase.\n",
    "str1=\"ThIs course in pwskills is Full stack data pwskills scine pro batch pwskills\"\n",
    "print(str1.endswith(\"pwskills\"))"
   ]
  },
  {
   "cell_type": "code",
   "execution_count": 31,
   "id": "50c2881c-7b67-492f-ac85-f322f75a962a",
   "metadata": {},
   "outputs": [
    {
     "name": "stdout",
     "output_type": "stream",
     "text": [
      "This Course In Pwskills Is Full Stack Data Pwskills Scine Pro Batch Pwskills\n"
     ]
    }
   ],
   "source": [
    "#19. Convert a string to title case (e.g., \"hello world\" to \"Hello World\").\n",
    "str1=\"ThIs course in pwskills is Full stack data pwskills scine pro batch pwskills\"\n",
    "print(str1.title())"
   ]
  },
  {
   "cell_type": "code",
   "execution_count": 41,
   "id": "72c59508-63cd-465d-a057-940bacf91024",
   "metadata": {},
   "outputs": [
    {
     "name": "stdout",
     "output_type": "stream",
     "text": [
      "pwskills\n"
     ]
    }
   ],
   "source": [
    "#20. Find the longest word in a string.\n",
    "str1=\"This course in pwskills is Full stack data\"\n",
    "str1=str1.lower()\n",
    "words=str1.split()\n",
    "longest_word_len=0\n",
    "longest_word=\"\"\n",
    "for i in words:\n",
    "    if len(i)>longest_word_len:\n",
    "        longest_word_len=len(i)\n",
    "        longest_word=i\n",
    "\n",
    "print(longest_word)        "
   ]
  },
  {
   "cell_type": "code",
   "execution_count": 49,
   "id": "ba5251d4-8ee7-4d9b-8c50-ce3bc3cd6e53",
   "metadata": {},
   "outputs": [
    {
     "name": "stdout",
     "output_type": "stream",
     "text": [
      "in\n"
     ]
    }
   ],
   "source": [
    "#21. Find the shortest word in a string.\n",
    "str1=\"This course in pwskills is Full stack data\"\n",
    "str1=str1.lower()\n",
    "words=str1.split()\n",
    "shotest_word_len=float('inf')\n",
    "shotest_word=\"\"\n",
    "for i in words:\n",
    "    if len(i)<shotest_word_len:\n",
    "        shotest_word_len=len(i)\n",
    "        shotest_word=i\n",
    "\n",
    "print(shotest_word) "
   ]
  },
  {
   "cell_type": "code",
   "execution_count": 54,
   "id": "614ee1b8-d223-4705-9811-a44f63c04ba1",
   "metadata": {},
   "outputs": [
    {
     "name": "stdout",
     "output_type": "stream",
     "text": [
      "data stack full is pwskills in course this\n"
     ]
    }
   ],
   "source": [
    "#22. Reverse the order of words in a string.\n",
    "str1=\"This course in pwskills is Full stack data\"\n",
    "str1=str1.lower()\n",
    "words=str1.split()\n",
    "print(\" \".join(words[::-1]))"
   ]
  },
  {
   "cell_type": "code",
   "execution_count": 58,
   "id": "c7d6d59f-caa4-46e7-b7d9-4c0cdbb4576a",
   "metadata": {},
   "outputs": [
    {
     "data": {
      "text/plain": [
       "True"
      ]
     },
     "execution_count": 58,
     "metadata": {},
     "output_type": "execute_result"
    }
   ],
   "source": [
    "#23. Check if a string is alphanumeric.\n",
    "str1=\"datascience235\"\n",
    "bool(str1.isalnum())"
   ]
  },
  {
   "cell_type": "code",
   "execution_count": 59,
   "id": "847f7b9d-aeb8-4827-9fbe-b51ec5df8a50",
   "metadata": {},
   "outputs": [
    {
     "name": "stdout",
     "output_type": "stream",
     "text": [
      "365434645748758994\n"
     ]
    }
   ],
   "source": [
    "#24. Extract all digits from a string.\n",
    "str1=\"my name is 3654346 but hfsj 457fjghl4875 8kj9kj94\"\n",
    "digit=\"\"\n",
    "for i in str1:\n",
    "    if i.isdigit():\n",
    "        digit+=i\n",
    "        \n",
    "print(digit)"
   ]
  },
  {
   "cell_type": "code",
   "execution_count": 60,
   "id": "cb7e5827-dc45-47e4-b333-e5604f5ea01a",
   "metadata": {},
   "outputs": [
    {
     "name": "stdout",
     "output_type": "stream",
     "text": [
      "mynameisbuthfsjfjghlkjkj\n"
     ]
    }
   ],
   "source": [
    "#25. Extract all alphabets from a string\n",
    "str1=\"my name is 3654346 but hfsj 457fjghl4875 8kj9kj94\"\n",
    "alphabets=\"\"\n",
    "for i in str1:\n",
    "    if i.isalpha():\n",
    "       alphabets+=i\n",
    "        \n",
    "print(alphabets)"
   ]
  },
  {
   "cell_type": "code",
   "execution_count": 66,
   "id": "13d2b3ef-1f48-4ee7-9ab6-3306c92d2b01",
   "metadata": {},
   "outputs": [
    {
     "data": {
      "text/plain": [
       "'mynameisbuthfsjfjghlkjkj'"
      ]
     },
     "execution_count": 66,
     "metadata": {},
     "output_type": "execute_result"
    }
   ],
   "source": [
    "x=\"\".join([char for char in str1 if char.isalpha()]) \n",
    "x"
   ]
  },
  {
   "cell_type": "code",
   "execution_count": 72,
   "id": "f4b65221-e527-4610-8455-e46937b51697",
   "metadata": {},
   "outputs": [
    {
     "data": {
      "text/plain": [
       "5"
      ]
     },
     "execution_count": 72,
     "metadata": {},
     "output_type": "execute_result"
    }
   ],
   "source": [
    "#26. Count the number of uppercase letters in a string.\n",
    "str1=\"ThIs course in pwskills is Full stack Data pwskills scine Pro batch pwskills\"\n",
    "a=[char for char in str1 if char.isupper()]\n",
    "len(a)"
   ]
  },
  {
   "cell_type": "code",
   "execution_count": 74,
   "id": "2bbe789b-5eb1-430e-a700-dbf51902dd5f",
   "metadata": {},
   "outputs": [
    {
     "name": "stdout",
     "output_type": "stream",
     "text": [
      "5\n"
     ]
    }
   ],
   "source": [
    "#27. Count the number of lowercase letters in a string.\n",
    "str1=\"ThIs Data\"\n",
    "print(sum(1 for char in str1 if char.islower()))"
   ]
  },
  {
   "cell_type": "code",
   "execution_count": 75,
   "id": "acdd5afa-2714-4d27-a2f0-fc45a499c3ed",
   "metadata": {},
   "outputs": [
    {
     "name": "stdout",
     "output_type": "stream",
     "text": [
      "tHiS dATA\n"
     ]
    }
   ],
   "source": [
    "#28. Swap the case of each character in a string.\n",
    "str1=\"ThIs Data\"\n",
    "print(str1.swapcase())"
   ]
  },
  {
   "cell_type": "code",
   "execution_count": 76,
   "id": "69f1e2d0-882a-47ed-8af1-07054aa7f7c4",
   "metadata": {},
   "outputs": [
    {
     "name": "stdout",
     "output_type": "stream",
     "text": [
      "ThIs course in is Full stack Data scine Pro batch\n"
     ]
    }
   ],
   "source": [
    "#29. Remove a specific word from a string.\n",
    "str1=\"ThIs course in pwskills is Full stack Data pwskills scine Pro batch pwskills\"\n",
    "str2=\"pwskills\"\n",
    "words=str1.split()\n",
    "new_str=\" \".join([char for char in words if str2!=char])\n",
    "print(new_str)"
   ]
  },
  {
   "cell_type": "code",
   "execution_count": 1,
   "id": "49164b8f-f8e5-4655-8458-ce0bcd69c044",
   "metadata": {},
   "outputs": [
    {
     "name": "stdout",
     "output_type": "stream",
     "text": [
      "pwsills@email.com is a valid email address.\n"
     ]
    }
   ],
   "source": [
    "#30. Check if a string is a valid email address.\n",
    "import re\n",
    "def is_valid_email(email):\n",
    "     # Regular expression pattern for a valid email address\n",
    "    pattern = r'^[\\w\\.-]+@[\\w\\.-]+\\.\\w+$'\n",
    "         # Use re.match to check if the email matches the pattern\n",
    "    if re.match(pattern,email):\n",
    "            return True\n",
    "    else:\n",
    "            return False\n",
    "# Example usage:\n",
    "email = \"pwskills@email.com\"\n",
    "if is_valid_email(email):\n",
    "    print(f\"{email} is a valid email address.\")\n",
    "else:\n",
    "    print(f\"{email} is not a valid email address.\")"
   ]
  },
  {
   "cell_type": "code",
   "execution_count": 2,
   "id": "abb7f7f2-c10c-4ecf-be5f-71f41df4e3d8",
   "metadata": {},
   "outputs": [
    {
     "name": "stdout",
     "output_type": "stream",
     "text": [
      "pwskills\n"
     ]
    }
   ],
   "source": [
    "#31. Extract the username from an email address string.\n",
    "email = \"pwskills@email.com\"\n",
    "print(email.split(\"@\")[0])"
   ]
  },
  {
   "cell_type": "code",
   "execution_count": 3,
   "id": "6870d59f-3d8a-44da-93a0-efc71fd9a639",
   "metadata": {},
   "outputs": [
    {
     "name": "stdout",
     "output_type": "stream",
     "text": [
      "tridentindia.com\n"
     ]
    }
   ],
   "source": [
    "#32. Extract the domain name from an email address string.\n",
    "email = \"aniket.verma@tridentindia.com\"\n",
    "print(email.split(\"@\")[1])"
   ]
  },
  {
   "cell_type": "code",
   "execution_count": 4,
   "id": "e87a12bd-3898-4a9a-be26-385a36caf977",
   "metadata": {},
   "outputs": [
    {
     "name": "stdout",
     "output_type": "stream",
     "text": [
      "Hi my name is Pwskills whats your\n"
     ]
    }
   ],
   "source": [
    "#33. Replace multiple spaces in a string with a single space.\n",
    "str1=\"Hi    my  name is Pwskills  whats   your    \"\n",
    "print(\" \".join(str1.split()))"
   ]
  },
  {
   "cell_type": "code",
   "execution_count": 5,
   "id": "38040a7f-4b12-4e0d-ac6d-8544b72e0264",
   "metadata": {},
   "outputs": [
    {
     "name": "stdout",
     "output_type": "stream",
     "text": [
      "True\n",
      "False\n"
     ]
    }
   ],
   "source": [
    "#34. Check if a string is a valid URL.\n",
    "from urllib.parse import urlparse\n",
    "\n",
    "def is_valid_url(url):\n",
    "    try:\n",
    "        result = urlparse(url)\n",
    "        return all([result.scheme, result.netloc])  # Check if both scheme and netloc are present\n",
    "    except ValueError:\n",
    "        return False\n",
    "\n",
    "# Example URLs\n",
    "url1 = \"https://www.example.com\"\n",
    "url2 = \"invalid-url\"\n",
    "result1 = is_valid_url(url1)\n",
    "result2 = is_valid_url(url2)\n",
    "print(result1)  # Should print True\n",
    "print(result2)  # Should print False"
   ]
  },
  {
   "cell_type": "code",
   "execution_count": 1,
   "id": "98d90482-d863-4c2d-bfdb-b97d19365965",
   "metadata": {},
   "outputs": [
    {
     "name": "stdout",
     "output_type": "stream",
     "text": [
      "https\n"
     ]
    }
   ],
   "source": [
    "#35. Extract the protocol (http or https) from a URL string.url1 = \"https://www.example.com\"\n",
    "url1 = \"https://www.example.com\"\n",
    "print(url1.split(\"://\")[0])"
   ]
  },
  {
   "cell_type": "code",
   "execution_count": 5,
   "id": "12eac7ad-71c7-4f3a-b22a-f62eabff368b",
   "metadata": {},
   "outputs": [
    {
     "name": "stdout",
     "output_type": "stream",
     "text": [
      "character t and its count is 4\n",
      "character h and its count is 2\n",
      "character i and its count is 7\n",
      "character s and its count is 11\n",
      "character   and its count is 12\n",
      "character c and its count is 4\n",
      "character o and its count is 2\n",
      "character u and its count is 2\n",
      "character r and its count is 2\n",
      "character e and its count is 2\n",
      "character n and its count is 2\n",
      "character p and its count is 4\n",
      "character w and its count is 3\n",
      "character k and its count is 4\n",
      "character l and its count is 8\n",
      "character f and its count is 1\n",
      "character a and its count is 4\n",
      "character d and its count is 1\n",
      "character b and its count is 1\n"
     ]
    }
   ],
   "source": [
    "#36. Find the frequency of each character in a string.\n",
    "str1=\"ThIs course in pwskills is Full stack Data pwskills scine Pro batch pwskills\"\n",
    "str1=str1.lower()\n",
    "char_count={}\n",
    "for i in str1:\n",
    "    if i in char_count:\n",
    "        char_count[i]+=1\n",
    "    else:\n",
    "        char_count[i]=1\n",
    "        \n",
    "for char,count in char_count.items():\n",
    "    print(f\"character {char} and its count is {count}\")"
   ]
  },
  {
   "cell_type": "code",
   "execution_count": 8,
   "id": "0a13dca4-58ef-425c-bd57-db4bdb196014",
   "metadata": {},
   "outputs": [
    {
     "name": "stdout",
     "output_type": "stream",
     "text": [
      "Original string: Hello, world! How's it going?\n",
      "Cleaned string: Hello world Hows it going\n"
     ]
    }
   ],
   "source": [
    "#37. Remove all punctuation from a string.\n",
    "import string\n",
    "\n",
    "def remove_punctuation(input_string):\n",
    "    # Create a translation table to remove punctuation\n",
    "    translator = str.maketrans(\"\", \"\", string.punctuation)\n",
    "\n",
    "    # Use the translation table to remove punctuation from the input string\n",
    "    clean_string = input_string.translate(translator)\n",
    "\n",
    "    return clean_string\n",
    "\n",
    "# Example string with punctuation\n",
    "input_str = \"Hello, world! How's it going?\"\n",
    "\n",
    "# Remove punctuation\n",
    "cleaned_str = remove_punctuation(input_str)\n",
    "\n",
    "# Print the cleaned string\n",
    "print(\"Original string:\", input_str)\n",
    "print(\"Cleaned string:\", cleaned_str)"
   ]
  },
  {
   "cell_type": "code",
   "execution_count": 13,
   "id": "f10cf591-3794-4a5f-b35a-2401ae933d77",
   "metadata": {},
   "outputs": [
    {
     "name": "stdout",
     "output_type": "stream",
     "text": [
      "False\n",
      "True\n"
     ]
    }
   ],
   "source": [
    "#38. Check if a string contains only digits.\n",
    "str1=\"83478dnmflkhr948357msmnfd34875snfmd387\"\n",
    "str2=\"98346583\"\n",
    "print(bool(str1.isdigit()))\n",
    "print(bool(str2.isdigit()))"
   ]
  },
  {
   "cell_type": "code",
   "execution_count": 14,
   "id": "5a3d6a7b-0b17-4847-8ea1-3caa2b52ee76",
   "metadata": {},
   "outputs": [
    {
     "name": "stdout",
     "output_type": "stream",
     "text": [
      "False\n",
      "True\n"
     ]
    }
   ],
   "source": [
    "#39. Check if a string contains only alphabets.\n",
    "str1=\"83478dnmflkhr948357msmnfd34875snfmd387\"\n",
    "str2=\"pwskillsmdbfkjdh\"\n",
    "print(bool(str1.isalpha()))\n",
    "print(bool(str2.isalpha()))"
   ]
  },
  {
   "cell_type": "code",
   "execution_count": 15,
   "id": "74f22298-8679-42a7-8559-aed08820a0ed",
   "metadata": {},
   "outputs": [
    {
     "data": {
      "text/plain": [
       "['d',\n",
       " 'j',\n",
       " 'g',\n",
       " 'i',\n",
       " 'y',\n",
       " 'r',\n",
       " 'g',\n",
       " 'j',\n",
       " 'h',\n",
       " 'l',\n",
       " 'f',\n",
       " 'j',\n",
       " 's',\n",
       " 'd',\n",
       " 'k',\n",
       " 'f',\n",
       " 'h',\n",
       " 'u',\n",
       " 'y',\n",
       " 'r',\n",
       " 'd',\n",
       " 'h']"
      ]
     },
     "execution_count": 15,
     "metadata": {},
     "output_type": "execute_result"
    }
   ],
   "source": [
    "#40. Convert a string to a list of characters.\n",
    "str1=\"djgiyrgjhlfjsdkfhuyrdh\"\n",
    "lst=list(str1)\n",
    "lst"
   ]
  },
  {
   "cell_type": "code",
   "execution_count": 16,
   "id": "50654431-871d-4cb1-b6e3-5f65e3c6b294",
   "metadata": {},
   "outputs": [
    {
     "name": "stdout",
     "output_type": "stream",
     "text": [
      "is string anagrams True\n"
     ]
    }
   ],
   "source": [
    "#41. Check if two strings are anagrams.\n",
    "str1=\"listen\"\n",
    "str2=\"silent\"\n",
    "print(\"is string anagrams\",bool(sorted(str1)==sorted(str2)))"
   ]
  },
  {
   "cell_type": "code",
   "execution_count": 17,
   "id": "14452518-e3a1-4471-96dd-1db00ae3e3fd",
   "metadata": {},
   "outputs": [
    {
     "name": "stdout",
     "output_type": "stream",
     "text": [
      "Encoded text: ehoor, zruog!\n"
     ]
    }
   ],
   "source": [
    "#42. Encode a string using a Caesar cipher.\n",
    "# Define a function named caesar_cipher that encodes a string using a Caesar cipher.\n",
    "def caesar_cipher(text, shift):\n",
    "  # Initialize an empty string to store the encoded text.\n",
    "  encoded_text = \"\"\n",
    "\n",
    "  # Iterate through each character in the input text.\n",
    "  for char in text:\n",
    "    # Check if the character is alphabetic.\n",
    "    if char.isalpha():\n",
    "      # Calculate the encoded character's Unicode code point value by shifting it by the specified amount.\n",
    "      # Ensure the value wraps around within the lowercase alphabet range (a-z).\n",
    "      encoded_char = chr((ord(char) + shift - ord('a')) % 26 + ord('a'))\n",
    "    else:\n",
    "      # Keep non-alphabetic characters unchanged.\n",
    "      encoded_char = char\n",
    "\n",
    "    # Add the encoded character to the encoded text.\n",
    "    encoded_text += encoded_char\n",
    "\n",
    "  # Return the resulting encoded text.\n",
    "  return encoded_text\n",
    "\n",
    "# Define the input text and the shift value for encoding.\n",
    "text = \"Hello, world!\"\n",
    "shift = 3\n",
    "\n",
    "# Call the caesar_cipher function to encode the text using the specified shift.\n",
    "encoded_text = caesar_cipher(text, shift)\n",
    "\n",
    "# Print the encoded text.\n",
    "print(\"Encoded text:\", encoded_text)"
   ]
  },
  {
   "cell_type": "code",
   "execution_count": 20,
   "id": "8211ad94-fdcb-49a0-bb46-cc86998ac0df",
   "metadata": {},
   "outputs": [
    {
     "name": "stdout",
     "output_type": "stream",
     "text": [
      "Decoded text: ilmm, world!\n"
     ]
    }
   ],
   "source": [
    "#43. Decode a Caesar cipher encoded string.\n",
    "# Define a function to decode a string using a Caesar cipher\n",
    "def caesar_cipher_decoder(text, shift):\n",
    "    \"\"\"\n",
    "    Decodes a string using a Caesar cipher.\n",
    "\n",
    "    Args:\n",
    "        text: The string to decode.\n",
    "        shift: The number of positions to shift each letter.\n",
    "\n",
    "    Returns:\n",
    "        The decoded string.\n",
    "    \"\"\"\n",
    "\n",
    "    # Initialize an empty string to store the decoded text\n",
    "    decoded_text = \"\"\n",
    "\n",
    "    # Loop through each character in the input text\n",
    "    for char in text:\n",
    "        # Check if the character is an alphabetic character\n",
    "        if char.isalpha():\n",
    "            # Calculate the decoded character using the shift value\n",
    "            decoded_char = chr((ord(char) - shift - ord('a')) % 26 + ord('a'))\n",
    "        else:\n",
    "            # If the character is not alphabetic, keep it unchanged\n",
    "            decoded_char = char\n",
    "\n",
    "        # Add the decoded character to the decoded text\n",
    "        decoded_text += decoded_char\n",
    "\n",
    "    # Return the fully decoded text\n",
    "    return decoded_text\n",
    "\n",
    "# Example input\n",
    "text = \"lopp, zruog!\"\n",
    "shift = 3\n",
    "\n",
    "# Call the caesar_cipher_decoder function to decode the input text\n",
    "decoded_text = caesar_cipher_decoder(text, shift)\n",
    "# Print the decoded text\n",
    "print(\"Decoded text:\", decoded_text)"
   ]
  },
  {
   "cell_type": "code",
   "execution_count": 21,
   "id": "3b563971-bc01-47be-aa84-22e4455a2945",
   "metadata": {},
   "outputs": [
    {
     "name": "stdout",
     "output_type": "stream",
     "text": [
      "The most frequent word(s) is/are: example\n",
      "It occurs 3 times.\n"
     ]
    }
   ],
   "source": [
    "#44. Find the most frequent word in a string.\n",
    "\n",
    "from collections import Counter\n",
    "import re\n",
    "\n",
    "def most_frequent_word(text):\n",
    "    # Tokenize the string into words (split by whitespace)\n",
    "    words = re.findall(r'\\b\\w+\\b', text.lower())  # Convert to lowercase for case insensitivity\n",
    "\n",
    "    # Count the occurrences of each word using Counter\n",
    "    word_counts = Counter(words)\n",
    "\n",
    "    # Find the most common word(s)\n",
    "    most_common_words = word_counts.most_common()\n",
    "\n",
    "    # Handle multiple words with the same highest count\n",
    "    highest_count = most_common_words[0][1]\n",
    "    most_frequent = [word for word, count in most_common_words if count == highest_count]\n",
    "\n",
    "    return most_frequent, highest_count\n",
    "\n",
    "# Example usage:\n",
    "text = \"This is an example. This is just an example, but it's a good example.\"\n",
    "most_frequent, highest_count = most_frequent_word(text)\n",
    "\n",
    "print(f\"The most frequent word(s) is/are: {', '.join(most_frequent)}\")\n",
    "print(f\"It occurs {highest_count} times.\")\n"
   ]
  },
  {
   "cell_type": "code",
   "execution_count": 22,
   "id": "3efa5b45-541a-402b-ace1-384439d21749",
   "metadata": {},
   "outputs": [
    {
     "name": "stdout",
     "output_type": "stream",
     "text": [
      "Unique words: {'there', 'hello', 'the', 'world', 'hows'}\n"
     ]
    }
   ],
   "source": [
    "#45. Find all unique words in a string.\n",
    "import re\n",
    "\n",
    "def unique_words(input_string):\n",
    "    # Remove punctuation and convert to lowercase\n",
    "    clean_string = re.sub(r'[^\\w\\s]', '', input_string).lower()\n",
    "\n",
    "    # Split the string into words and convert to a set for uniqueness\n",
    "    words = set(clean_string.split())\n",
    "\n",
    "    return words\n",
    "\n",
    "# Example string\n",
    "input_str = \"Hello world, hello there! How's the world?\"\n",
    "\n",
    "# Find unique words\n",
    "unique_word_set = unique_words(input_str)\n",
    "\n",
    "# Print the result\n",
    "print(\"Unique words:\", unique_word_set)"
   ]
  },
  {
   "cell_type": "code",
   "execution_count": 23,
   "id": "da8f1a93-cb44-4af4-b63a-ed98119bb4b0",
   "metadata": {},
   "outputs": [
    {
     "name": "stdout",
     "output_type": "stream",
     "text": [
      "'hello' has 2 syllables.\n",
      "'banana' has 3 syllables.\n",
      "'syllable' has 3 syllables.\n"
     ]
    }
   ],
   "source": [
    "#46. Count the number of syllables in a string.\n",
    "\n",
    "import re\n",
    "\n",
    "def count_syllables(word):\n",
    "    # Count vowel groups using regular expression\n",
    "    vowel_groups = re.findall(r'[aeiouy]+', word, re.IGNORECASE)\n",
    "\n",
    "    return len(vowel_groups)\n",
    "\n",
    "# Example words\n",
    "word1 = \"hello\"\n",
    "word2 = \"banana\"\n",
    "word3 = \"syllable\"\n",
    "\n",
    "# Count syllables\n",
    "syllables1 = count_syllables(word1)\n",
    "syllables2 = count_syllables(word2)\n",
    "syllables3 = count_syllables(word3)\n",
    "\n",
    "# Print the results\n",
    "print(f\"'{word1}' has {syllables1} syllables.\")\n",
    "print(f\"'{word2}' has {syllables2} syllables.\")\n",
    "print(f\"'{word3}' has {syllables3} syllables.\")"
   ]
  },
  {
   "cell_type": "code",
   "execution_count": 24,
   "id": "115422c5-eb1e-4b01-9706-4cc50ff78c9d",
   "metadata": {},
   "outputs": [
    {
     "name": "stdout",
     "output_type": "stream",
     "text": [
      "'Hello, world!' contains special characters: True\n",
      "'This is a test.' contains special characters: True\n",
      "'Special@Characters' contains special characters: True\n"
     ]
    }
   ],
   "source": [
    "#47. Check if a string contains any special characters.\n",
    "import re\n",
    "\n",
    "def contains_special_characters(input_string):\n",
    "    # Define a regular expression pattern to match special characters\n",
    "    pattern = re.compile(r'[!@#$%^&*()_+{}\\[\\]:;<>,.?~\\\\/]')\n",
    "\n",
    "    # Use the search() method to find a match\n",
    "    match = pattern.search(input_string)\n",
    "\n",
    "    # Return True if a match is found, False otherwise\n",
    "    return bool(match)\n",
    "\n",
    "# Example strings\n",
    "string1 = \"Hello, world!\"\n",
    "string2 = \"This is a test.\"\n",
    "string3 = \"Special@Characters\"\n",
    "\n",
    "# Check if strings contain special characters\n",
    "result1 = contains_special_characters(string1)\n",
    "result2 = contains_special_characters(string2)\n",
    "result3 = contains_special_characters(string3)\n",
    "\n",
    "# Print the results\n",
    "print(f\"'{string1}' contains special characters:\", result1)\n",
    "print(f\"'{string2}' contains special characters:\", result2)\n",
    "print(f\"'{string3}' contains special characters:\", result3)\n"
   ]
  },
  {
   "cell_type": "code",
   "execution_count": 25,
   "id": "fbae02cf-e725-4651-ab1c-4d141729617e",
   "metadata": {},
   "outputs": [
    {
     "name": "stdout",
     "output_type": "stream",
     "text": [
      "Original string: This is an example sentence to test the function.\n",
      "Modified string: This is an sentence to test the function.\n",
      "Removed word: example\n"
     ]
    }
   ],
   "source": [
    "#48. Remove the nth word from a string.\n",
    "def remove_nth_word(input_string, n):\n",
    "    # Split the input string into words\n",
    "    words = input_string.split()\n",
    "\n",
    "    # Check if n is within a valid range\n",
    "    if n >= 1 and n <= len(words):\n",
    "        # Remove the nth word by excluding it from the words list\n",
    "        removed_word = words.pop(n - 1)\n",
    "\n",
    "        # Join the remaining words to form the modified string\n",
    "        modified_string = ' '.join(words)\n",
    "\n",
    "        return modified_string, removed_word\n",
    "    else:\n",
    "        return None, None\n",
    "\n",
    "# Example string and n value\n",
    "input_str = \"This is an example sentence to test the function.\"\n",
    "n_value = 4\n",
    "\n",
    "# Remove the nth word\n",
    "modified_str, removed_word = remove_nth_word(input_str, n_value)\n",
    "\n",
    "# Print the results\n",
    "print(\"Original string:\", input_str)\n",
    "if modified_str is not None:\n",
    "    print(\"Modified string:\", modified_str)\n",
    "    print(\"Removed word:\", removed_word)\n",
    "else:\n",
    "    print(\"Invalid n value.\")\n"
   ]
  },
  {
   "cell_type": "code",
   "execution_count": 28,
   "id": "a82e90db-2a28-4fd8-b26e-74917fd09398",
   "metadata": {},
   "outputs": [
    {
     "name": "stdout",
     "output_type": "stream",
     "text": [
      "This inews an example sentence.\n"
     ]
    }
   ],
   "source": [
    "#49. Insert a word at the nth position in a string.\n",
    "def insert_word_at_nth_position(original_string, word_to_insert, n):\n",
    "    if n < 0:\n",
    "        n = 0\n",
    "    elif n > len(original_string):\n",
    "        n = len(original_string)\n",
    "    \n",
    "    # Slice the original string into two parts and insert the word in between\n",
    "    result_string = original_string[:n] + word_to_insert + original_string[n:]\n",
    "    \n",
    "    return result_string\n",
    "\n",
    "# Example usage:\n",
    "original_text = \"This is an example sentence.\"\n",
    "word_to_insert = \"new\"\n",
    "position_to_insert = 6\n",
    "\n",
    "new_text = insert_word_at_nth_position(original_text, word_to_insert, position_to_insert)\n",
    "print(new_text)\n"
   ]
  },
  {
   "cell_type": "code",
   "execution_count": 29,
   "id": "d21a2057-d329-497d-a1e2-8e2c937dc9ce",
   "metadata": {},
   "outputs": [
    {
     "name": "stdout",
     "output_type": "stream",
     "text": [
      "['Name', ' Age', ' Country']\n",
      "['John', ' 25', ' USA']\n",
      "['Alice', ' 30', ' Canada']\n",
      "['Bob', ' 22', ' UK']\n"
     ]
    }
   ],
   "source": [
    "#50. Convert a CSV string to a list of lists.\n",
    "def csv_string_to_list(csv_string):\n",
    "    # Split the CSV string into lines\n",
    "    lines = csv_string.split('\\n')\n",
    "\n",
    "    # Initialize an empty list to store the result\n",
    "    result = []\n",
    "\n",
    "    for line in lines:\n",
    "        # Split each line into fields using comma as the delimiter\n",
    "        fields = line.split(',')\n",
    "\n",
    "        # Append the fields to the result list as a row\n",
    "        result.append(fields)\n",
    "\n",
    "    return result\n",
    "\n",
    "# Example CSV string\n",
    "csv_data = \"Name, Age, Country\\nJohn, 25, USA\\nAlice, 30, Canada\\nBob, 22, UK\"\n",
    "\n",
    "# Convert CSV string to a list of lists\n",
    "list_of_lists = csv_string_to_list(csv_data)\n",
    "\n",
    "# Print the result\n",
    "for row in list_of_lists:\n",
    "    print(row)"
   ]
  },
  {
   "cell_type": "code",
   "execution_count": null,
   "id": "44fc3bd9-6dd7-4570-ba35-b98f696adcae",
   "metadata": {},
   "outputs": [],
   "source": [
    "'''------------------------------List Based Practice Problem--------------------------------------------'''"
   ]
  },
  {
   "cell_type": "code",
   "execution_count": 32,
   "id": "7c1328bb-8839-4a97-9f01-7ab320a25614",
   "metadata": {},
   "outputs": [
    {
     "name": "stdout",
     "output_type": "stream",
     "text": [
      "[1, 2, 3, 4, 5, 6, 7, 8, 9, 10]\n"
     ]
    }
   ],
   "source": [
    "#1. Create a list with integers from 1 to 10.\n",
    "print([x for x in range(1,11)])\n"
   ]
  },
  {
   "cell_type": "code",
   "execution_count": 34,
   "id": "7184e1ca-c6cd-4236-84dc-783a754d835b",
   "metadata": {},
   "outputs": [
    {
     "name": "stdout",
     "output_type": "stream",
     "text": [
      "9\n"
     ]
    }
   ],
   "source": [
    "#2. Find the length of a list without using the `len()` function.\n",
    "lst=[3,6,8,9,4,3,5,7,9]\n",
    "count=0\n",
    "for i in lst:\n",
    "    count+=1\n",
    "print(count)    "
   ]
  },
  {
   "cell_type": "code",
   "execution_count": 46,
   "id": "170b6576-a237-4147-843a-c695188ffa79",
   "metadata": {},
   "outputs": [
    {
     "name": "stdout",
     "output_type": "stream",
     "text": [
      "[3, 6, 8, 9, 4, 3, 5, 7, 9, 10]\n"
     ]
    }
   ],
   "source": [
    "#3. Append an element to the end of a list.\n",
    "lst=[3,6,8,9,4,3,5,7,9]\n",
    "lst.append(10)\n",
    "print(lst)"
   ]
  },
  {
   "cell_type": "code",
   "execution_count": 47,
   "id": "54025040-6840-4e6f-9ea1-1b1cbfaea6be",
   "metadata": {},
   "outputs": [
    {
     "name": "stdout",
     "output_type": "stream",
     "text": [
      "[3, 6, 8, 9, 4, 3, 10, 5, 7, 9]\n"
     ]
    }
   ],
   "source": [
    "#4. Insert an element at a specific index in a list.\n",
    "lst=[3,6,8,9,4,3,5,7,9]\n",
    "lst.insert(6,10)\n",
    "print(lst)"
   ]
  },
  {
   "cell_type": "code",
   "execution_count": 49,
   "id": "20dbb78a-c19c-40b0-b51f-772e037dff5c",
   "metadata": {},
   "outputs": [
    {
     "name": "stdout",
     "output_type": "stream",
     "text": [
      "[3, 6, 8, 9, 3, 5, 7, 10]\n"
     ]
    }
   ],
   "source": [
    "#5. Remove an element from a list by its value.\n",
    "lst=[3,6,8,9,4,3,5,7,10]\n",
    "lst.remove(4)\n",
    "print(lst)"
   ]
  },
  {
   "cell_type": "code",
   "execution_count": 55,
   "id": "ace7831c-012a-4d17-b827-36741b102f77",
   "metadata": {},
   "outputs": [
    {
     "name": "stdout",
     "output_type": "stream",
     "text": [
      "[3, 6, 8, 9, 4, 5, 7, 10]\n"
     ]
    }
   ],
   "source": [
    "#6. Remove an element from a list by its index.\n",
    "lst=[3,6,8,9,4,3,5,7,10]\n",
    "lst.pop(5)\n",
    "print(lst)"
   ]
  },
  {
   "cell_type": "code",
   "execution_count": 59,
   "id": "a5c622ae-fe11-45b0-b678-75b197fb71be",
   "metadata": {},
   "outputs": [
    {
     "name": "stdout",
     "output_type": "stream",
     "text": [
      "True\n"
     ]
    }
   ],
   "source": [
    "#7. Check if an element exists in a list.\n",
    "lst=[3,6,8,9,4,3,5,7,10]\n",
    "y=lambda x: x in lst \n",
    "print(y(10))"
   ]
  },
  {
   "cell_type": "code",
   "execution_count": 61,
   "id": "0abc7b6b-5f38-4e50-9740-21016b97c68f",
   "metadata": {},
   "outputs": [
    {
     "name": "stdout",
     "output_type": "stream",
     "text": [
      "3\n"
     ]
    }
   ],
   "source": [
    "#8. Find the index of the first occurrence of an element in a list.\n",
    "lst=[3,6,8,9,4,3,5,4,7,10]\n",
    "print(lst.index(9))"
   ]
  },
  {
   "cell_type": "code",
   "execution_count": 65,
   "id": "0302cd06-6088-4bcb-b159-06546aeeb46c",
   "metadata": {},
   "outputs": [
    {
     "name": "stdout",
     "output_type": "stream",
     "text": [
      "2\n"
     ]
    }
   ],
   "source": [
    "#9. Count the occurrences of an element in a list.\n",
    "lst=[3,6,8,9,4,3,5,4,7,10,4,10]\n",
    "print(lst.count(10))"
   ]
  },
  {
   "cell_type": "code",
   "execution_count": 66,
   "id": "d7beaece-ef3f-4f0a-8518-cc38152a6f80",
   "metadata": {},
   "outputs": [
    {
     "name": "stdout",
     "output_type": "stream",
     "text": [
      "[10, 4, 10, 7, 4, 5, 3, 4, 9, 8, 6, 3]\n"
     ]
    }
   ],
   "source": [
    "#10. Reverse the order of elements in a list.\n",
    "lst=[3,6,8,9,4,3,5,4,7,10,4,10]\n",
    "print(lst[::-1])"
   ]
  },
  {
   "cell_type": "code",
   "execution_count": 5,
   "id": "ec2cfef7-53ef-4595-998c-55b753b14ee5",
   "metadata": {},
   "outputs": [
    {
     "name": "stdout",
     "output_type": "stream",
     "text": [
      "[1, 3, 3, 4, 4, 4, 5, 6, 7, 8, 9, 10, 10, 21, 68, 78, 98, 454]\n"
     ]
    }
   ],
   "source": [
    "#11. Sort a list in ascending order.\n",
    "lst=[3,6,8,9,4,454,78,21,98,1,68,3,5,4,7,10,4,10]\n",
    "lst.sort()\n",
    "print(lst)"
   ]
  },
  {
   "cell_type": "code",
   "execution_count": 6,
   "id": "3b451275-158f-4388-832e-8bd38f77305c",
   "metadata": {},
   "outputs": [
    {
     "name": "stdout",
     "output_type": "stream",
     "text": [
      "[454, 98, 78, 68, 21, 10, 10, 9, 8, 7, 6, 5, 4, 4, 4, 3, 3, 1]\n"
     ]
    }
   ],
   "source": [
    "#12. Sort a list in descending order.\n",
    "lst=[3,6,8,9,4,454,78,21,98,1,68,3,5,4,7,10,4,10]\n",
    "lst.sort(reverse=True)\n",
    "print(lst)"
   ]
  },
  {
   "cell_type": "code",
   "execution_count": 2,
   "id": "f6ae19f6-39ef-4470-971a-305d440e2131",
   "metadata": {},
   "outputs": [
    {
     "data": {
      "text/plain": [
       "[2, 4, 6, 8, 10, 12, 14, 16, 18, 20]"
      ]
     },
     "execution_count": 2,
     "metadata": {},
     "output_type": "execute_result"
    }
   ],
   "source": [
    "#13. Create a list of even numbers from 1 to 20.\n",
    "lt_even=[x for x in range(1,21) if x%2==0]\n",
    "lt_even"
   ]
  },
  {
   "cell_type": "code",
   "execution_count": 2,
   "id": "7a5af0b5-f7ec-4050-bd12-94c4e80fb814",
   "metadata": {},
   "outputs": [
    {
     "data": {
      "text/plain": [
       "[1, 3, 5, 7, 9, 11, 13, 15, 17, 19]"
      ]
     },
     "execution_count": 2,
     "metadata": {},
     "output_type": "execute_result"
    }
   ],
   "source": [
    "#14. Create a list of odd numbers from 1 to 20.\n",
    "lt_odd=[x for x in range(1,21) if x%2!=0]\n",
    "lt_odd"
   ]
  },
  {
   "cell_type": "code",
   "execution_count": 7,
   "id": "4bdec565-0980-43ca-bafb-7b5184fcc696",
   "metadata": {},
   "outputs": [
    {
     "name": "stdout",
     "output_type": "stream",
     "text": [
      "100\n"
     ]
    }
   ],
   "source": [
    "#15. Find the sum of all elements in a list.\n",
    "lt_odd \n",
    "print(sum(lt_odd))"
   ]
  },
  {
   "cell_type": "code",
   "execution_count": 9,
   "id": "40c3df62-35a2-42e6-a3ae-586301c5ffa8",
   "metadata": {},
   "outputs": [
    {
     "name": "stdout",
     "output_type": "stream",
     "text": [
      "19\n"
     ]
    }
   ],
   "source": [
    "#16. Find the maximum value in a list.\n",
    "print(max(lt_odd))"
   ]
  },
  {
   "cell_type": "code",
   "execution_count": 10,
   "id": "527deb59-a43e-4843-ab86-974019b8ba78",
   "metadata": {},
   "outputs": [
    {
     "name": "stdout",
     "output_type": "stream",
     "text": [
      "1\n"
     ]
    }
   ],
   "source": [
    "#17. Find the minimum value in a list.\n",
    "print(min(lt_odd))"
   ]
  },
  {
   "cell_type": "code",
   "execution_count": 12,
   "id": "eca9bd22-7de2-46ff-93b3-3f62f2be650e",
   "metadata": {},
   "outputs": [
    {
     "name": "stdout",
     "output_type": "stream",
     "text": [
      "[1, 4, 9, 16, 25, 36, 49, 64, 81]\n"
     ]
    }
   ],
   "source": [
    "#18. Create a list of squares of numbers from 1 to 10.\n",
    "lt_sq=[x*x for x in range(1,10)]\n",
    "print(lt_sq)"
   ]
  },
  {
   "cell_type": "code",
   "execution_count": 15,
   "id": "bc856bcc-3710-4b67-9f43-fc3aaf327dc1",
   "metadata": {},
   "outputs": [
    {
     "name": "stdout",
     "output_type": "stream",
     "text": [
      "[83, 48, 49, 88, 26, 40, 16, 6, 5, 71]\n"
     ]
    }
   ],
   "source": [
    "#19. Create a list of random numbers.\n",
    "import random\n",
    "lt_rand=[random.randint(1,100) for i in range(10)]\n",
    "print(lt_rand)"
   ]
  },
  {
   "cell_type": "code",
   "execution_count": 18,
   "id": "508372cb-2dd1-4e10-aa4c-5bfb8e1394da",
   "metadata": {},
   "outputs": [
    {
     "name": "stdout",
     "output_type": "stream",
     "text": [
      "[0, 2, 3, 4, 67, 6, 7, 8, 745, 5, 9, 78, 80, 435, 54, 56, 89]\n"
     ]
    }
   ],
   "source": [
    "#20. Remove duplicates from a list.\n",
    "lt=[4,6,8,3,78,0,2,67,56,89,80,435,56,7,745,54,4,5,6,7,9]\n",
    "print(list(set(lt)))\n"
   ]
  },
  {
   "cell_type": "code",
   "execution_count": 20,
   "id": "14829cf1-158c-48dd-ae31-72890a07934f",
   "metadata": {},
   "outputs": [
    {
     "name": "stdout",
     "output_type": "stream",
     "text": [
      "3\n",
      "4\n",
      "7\n",
      "9\n"
     ]
    }
   ],
   "source": [
    "#21. Find the common elements between two lists.\n",
    "lt1=[3,4,6,7,8,9,6,4,6,9]\n",
    "lt2=[3,4,5,7,9,0,4]\n",
    "for i in list(set(lt1)):\n",
    "    for j in list(set(lt2)):\n",
    "        if i==j:\n",
    "            print(i)"
   ]
  },
  {
   "cell_type": "code",
   "execution_count": 22,
   "id": "ebd06ecf-823f-4465-9c31-b5cdee03cf8a",
   "metadata": {},
   "outputs": [
    {
     "name": "stdout",
     "output_type": "stream",
     "text": [
      "[3, 4, 7, 9]\n"
     ]
    }
   ],
   "source": [
    "lt=[ele for ele in set(lt1) if ele in set(lt2)]\n",
    "print(lt)"
   ]
  },
  {
   "cell_type": "code",
   "execution_count": 23,
   "id": "e2000dd8-31eb-4260-a06c-69291bc61572",
   "metadata": {},
   "outputs": [
    {
     "name": "stdout",
     "output_type": "stream",
     "text": [
      "[9, 3, 4, 7]\n"
     ]
    }
   ],
   "source": [
    "lts=list(set(lt1).intersection(set(lt2)))\n",
    "print(lts)"
   ]
  },
  {
   "cell_type": "code",
   "execution_count": 26,
   "id": "05314c8a-0666-4e41-80cb-e1ca5d6c85a2",
   "metadata": {},
   "outputs": [
    {
     "name": "stdout",
     "output_type": "stream",
     "text": [
      "[8, 6]\n"
     ]
    }
   ],
   "source": [
    "#22. Find the difference between two lists.\n",
    "lt_diff=list(set(lt1).difference(set(lt2)))\n",
    "print(lt_diff)"
   ]
  },
  {
   "cell_type": "code",
   "execution_count": 30,
   "id": "b75e55c0-d986-4d71-a77f-1942f0830a41",
   "metadata": {},
   "outputs": [
    {
     "name": "stdout",
     "output_type": "stream",
     "text": [
      "[0, 3, 4, 5, 6, 7, 8, 9]\n"
     ]
    }
   ],
   "source": [
    "#23. Merge two lists.\n",
    "print(list(set(lt1+lt2)))"
   ]
  },
  {
   "cell_type": "code",
   "execution_count": 33,
   "id": "fdbc61aa-f4a6-4d36-9f6f-cf0528b7297a",
   "metadata": {},
   "outputs": [
    {
     "name": "stdout",
     "output_type": "stream",
     "text": [
      "[6, 8, 12, 14, 16, 18]\n"
     ]
    }
   ],
   "source": [
    "#24. Multiply all elements in a list by 2.\n",
    "lm=[x*2 for x in lt1]\n",
    "print(list(set(lm)))"
   ]
  },
  {
   "cell_type": "code",
   "execution_count": 34,
   "id": "413aadde-889a-4792-8b77-b0ecdb02257b",
   "metadata": {},
   "outputs": [
    {
     "name": "stdout",
     "output_type": "stream",
     "text": [
      "[4, 6, 8, 6, 4, 6]\n"
     ]
    }
   ],
   "source": [
    "#25. Filter out all even numbers from a list\n",
    "lm_even=[x for x in lt1 if x%2==0]\n",
    "print(lm_even)"
   ]
  },
  {
   "cell_type": "code",
   "execution_count": 36,
   "id": "193b3732-e77b-494e-8524-fd4307d84a03",
   "metadata": {},
   "outputs": [
    {
     "name": "stdout",
     "output_type": "stream",
     "text": [
      "[1, 2, 3, 4]\n"
     ]
    }
   ],
   "source": [
    "#26. Convert a list of strings to a list of integers.\n",
    "lt1=['1','2','3','4']\n",
    "lt2=[int(i) for i in lt1]\n",
    "print(lt2)"
   ]
  },
  {
   "cell_type": "code",
   "execution_count": 38,
   "id": "e520e7f0-47b8-4b46-b676-d9fcb06d563c",
   "metadata": {},
   "outputs": [
    {
     "name": "stdout",
     "output_type": "stream",
     "text": [
      "['1', '2', '3', '4']\n"
     ]
    }
   ],
   "source": [
    "#27. Convert a list of integers to a list of strings.\n",
    "lt3=[str(i) for i in lt2]\n",
    "print(lt3)"
   ]
  },
  {
   "cell_type": "code",
   "execution_count": 39,
   "id": "bc9e06ed-038c-4daf-a53c-b81147c9fa33",
   "metadata": {},
   "outputs": [
    {
     "name": "stdout",
     "output_type": "stream",
     "text": [
      "[1, 2, 3, 545, 4, 5, 7, 3, 4, 6, 5, 6, 7, 9, 6, 5, 8]\n"
     ]
    }
   ],
   "source": [
    "#28. Flatten a nested list.\n",
    "lt1=[1,2,3,545,[4,5,7,[3,4,6,[5,6,7,9],6],5],8]\n",
    "\n",
    "def flatten_list(lt1):\n",
    "    flattened =[]\n",
    "    for i in lt1:\n",
    "        if isinstance(i,list):\n",
    "            flattened.extend(flatten_list(i))\n",
    "        else:\n",
    "            flattened.append(i)\n",
    "    return flattened\n",
    "\n",
    "print(flatten_list(lt1))"
   ]
  },
  {
   "cell_type": "code",
   "execution_count": 50,
   "id": "14e94d89-e137-43ed-be6b-bd4d9e3c0599",
   "metadata": {},
   "outputs": [
    {
     "name": "stdout",
     "output_type": "stream",
     "text": [
      "[0, 1, 1, 2, 3, 5, 8, 13, 21, 34]\n"
     ]
    }
   ],
   "source": [
    "#29. Create a list of the first 10 Fibonacci numbers.\n",
    "fibonaci_num=[0,1]\n",
    "for i in range(2,10):\n",
    "    fib_sum=fibonaci_num[i-1]+fibonaci_num[i-2]\n",
    "    fibonaci_num.append(fib_sum)\n",
    "print(fibonaci_num)"
   ]
  },
  {
   "cell_type": "code",
   "execution_count": 58,
   "id": "a047f5b5-d93b-4cca-ab77-edf1875f03b8",
   "metadata": {},
   "outputs": [
    {
     "name": "stdout",
     "output_type": "stream",
     "text": [
      "False\n"
     ]
    }
   ],
   "source": [
    "#30. Check if a list is sorted.\n",
    "def sorted_list(lt):\n",
    "    for i in range(1,len(lt)):\n",
    "        if lt[i]<lt[i-1]:\n",
    "            return False\n",
    "    return True\n",
    "\n",
    "lt=[5,4,6,7]\n",
    "print(sorted_list(lt))"
   ]
  },
  {
   "cell_type": "code",
   "execution_count": 60,
   "id": "77adc824-a376-4b08-98c4-43bf67e19c0b",
   "metadata": {},
   "outputs": [
    {
     "name": "stdout",
     "output_type": "stream",
     "text": [
      "[5, 6, 7, 8, 9, 1, 2, 3, 4]\n"
     ]
    }
   ],
   "source": [
    "#31. Rotate a list to the left by `n` positions.\n",
    "lt=[1,2,3,4,5,6,7,8,9]\n",
    "n=4\n",
    "rotate=lt[n:]+lt[:n]\n",
    "\n",
    "print(rotate)"
   ]
  },
  {
   "cell_type": "code",
   "execution_count": 62,
   "id": "def469dc-f776-4a0f-aa9d-90d06063ea7c",
   "metadata": {},
   "outputs": [
    {
     "name": "stdout",
     "output_type": "stream",
     "text": [
      "[6, 7, 8, 9, 1, 2, 3, 4, 5]\n"
     ]
    }
   ],
   "source": [
    "#32. Rotate a list to the right by `n` positions.\n",
    "lt=[1,2,3,4,5,6,7,8,9]\n",
    "n=4\n",
    "rotate=lt[-n:]+lt[:-n]\n",
    "\n",
    "print(rotate)"
   ]
  },
  {
   "cell_type": "code",
   "execution_count": 73,
   "id": "39eb344e-acb3-4d9e-a0b4-79b6881979e1",
   "metadata": {},
   "outputs": [
    {
     "name": "stdout",
     "output_type": "stream",
     "text": [
      "[2, 3, 5, 7, 11, 13, 17, 19, 23, 29, 31, 37, 41, 43, 47]\n"
     ]
    }
   ],
   "source": [
    "#33. Create a list of prime numbers up to 50.\n",
    "def is_prime(num):\n",
    "    if num <= 1:\n",
    "        return False\n",
    "    if num <= 3:\n",
    "        return True\n",
    "    if num % 2 == 0 or num % 3 == 0:\n",
    "        return False\n",
    "    i = 5\n",
    "    while i * i <= num:\n",
    "        if num % i == 0 or num % (i + 2) == 0:\n",
    "            return False\n",
    "        i += 6\n",
    "    return True\n",
    "\n",
    "# Create a list of prime numbers up to 50\n",
    "prime_numbers = [num for num in range(2, 51) if is_prime(num)]\n",
    "\n",
    "# Print the list of prime numbers\n",
    "print(prime_numbers)"
   ]
  },
  {
   "cell_type": "code",
   "execution_count": 75,
   "id": "52dfaa41-c5e9-40ac-9896-fcd9c3ccd47d",
   "metadata": {},
   "outputs": [
    {
     "name": "stdout",
     "output_type": "stream",
     "text": [
      "[[1, 2], [3, 4], [5, 7], [99, 8], [9]]\n"
     ]
    }
   ],
   "source": [
    "#34. Split a list into chunks of size `n`.\n",
    "lt=[1,2,3,4,5,7,99,8,9]\n",
    "n=2\n",
    "lt2=[lt[i:i+n] for i in range(0,len(lt),n)]\n",
    "print(lt2)"
   ]
  },
  {
   "cell_type": "code",
   "execution_count": 81,
   "id": "35e7936a-3ce3-46e1-9a95-614b38b57661",
   "metadata": {},
   "outputs": [
    {
     "name": "stdout",
     "output_type": "stream",
     "text": [
      "Second largest number: 76\n"
     ]
    }
   ],
   "source": [
    "#35. Find the second largest number in a list.\n",
    "\n",
    "my_list = [10, 5, 20, 15, 30, 25,45,76,35,6,657]\n",
    "\n",
    "sorted_list = sorted(set(my_list))\n",
    "\n",
    "if len(sorted_list) >= 2:\n",
    "    second_largest = sorted_list[-2]\n",
    "    print(\"Second largest number:\", second_largest)\n"
   ]
  },
  {
   "cell_type": "code",
   "execution_count": 83,
   "id": "6326d86f-e5d6-40ea-9c14-8dff2f6c0773",
   "metadata": {},
   "outputs": [
    {
     "name": "stdout",
     "output_type": "stream",
     "text": [
      "[1, 4, 9, 16, 25, 49, 9801, 64, 81]\n"
     ]
    }
   ],
   "source": [
    "#36. Replace every element in a list with its square.\n",
    "l2=[x*x for x in lt]\n",
    "print(l2)"
   ]
  },
  {
   "cell_type": "code",
   "execution_count": 86,
   "id": "9151bbab-476f-4881-bc57-f0a073ed8e28",
   "metadata": {},
   "outputs": [
    {
     "name": "stdout",
     "output_type": "stream",
     "text": [
      "{0: 1, 1: 4, 2: 9, 3: 16, 4: 25, 5: 49, 6: 9801, 7: 64, 8: 81}\n"
     ]
    }
   ],
   "source": [
    "#37. Convert a list to a dictionary where list elements become keys and their indices become values.\n",
    "l2\n",
    "dic={element:indices for element,indices in enumerate(l2)}\n",
    "print(dic)"
   ]
  },
  {
   "cell_type": "code",
   "execution_count": 89,
   "id": "497475c6-3298-4084-807e-2d18f3d4fa7d",
   "metadata": {},
   "outputs": [
    {
     "name": "stdout",
     "output_type": "stream",
     "text": [
      "[25, 16, 9, 64, 81, 1, 49, 4, 9801]\n"
     ]
    }
   ],
   "source": [
    "#38. Shuffle the elements of a list randomly.\n",
    "import random\n",
    "random.shuffle(l2)\n",
    "print(l2)"
   ]
  },
  {
   "cell_type": "code",
   "execution_count": 92,
   "id": "3ec27398-d5dd-44b2-962d-3a166748d217",
   "metadata": {},
   "outputs": [
    {
     "name": "stdout",
     "output_type": "stream",
     "text": [
      "[1, 1, 2, 6, 24, 120, 720, 5040, 40320, 362880]\n"
     ]
    }
   ],
   "source": [
    "#39. Create a list of the first 10 factorial numbers.\n",
    "def factorial(num):\n",
    "    if num==1 or num==0:\n",
    "        return 1\n",
    "    else:\n",
    "        return num*factorial(num-1)\n",
    "lt=[factorial(num) for num in range(10)]\n",
    "print(lt)"
   ]
  },
  {
   "cell_type": "code",
   "execution_count": 96,
   "id": "619d5d24-48bb-4e69-872d-4ac895e0f44c",
   "metadata": {},
   "outputs": [
    {
     "name": "stdout",
     "output_type": "stream",
     "text": [
      "True\n",
      "True\n",
      "True\n",
      "False\n"
     ]
    }
   ],
   "source": [
    "#40. Check if two lists have at least one element in common.\n",
    "l1=[2,3,5,6,7]\n",
    "l2=[3,4,6,7,8]\n",
    "for i in l1:\n",
    "    if i in l2:\n",
    "        print(True)\n",
    "print(False)"
   ]
  },
  {
   "cell_type": "code",
   "execution_count": 97,
   "id": "867565cf-60ad-4258-b877-54eb39900ac0",
   "metadata": {},
   "outputs": [
    {
     "name": "stdout",
     "output_type": "stream",
     "text": [
      "[]\n"
     ]
    }
   ],
   "source": [
    "#41. Remove all elements from a list.\n",
    "l2.clear()\n",
    "print(l2)"
   ]
  },
  {
   "cell_type": "code",
   "execution_count": 99,
   "id": "ecb5a4cd-fe7b-47d5-866d-7eb13801bbe8",
   "metadata": {},
   "outputs": [
    {
     "name": "stdout",
     "output_type": "stream",
     "text": [
      "[1, 3, 0, 0, 0, 6]\n"
     ]
    }
   ],
   "source": [
    "#42. Replace negative numbers in a list with 0.\n",
    "l1=[1,3,-5,-8,-9,6]\n",
    "for i in range(0,len(l1)):\n",
    "    if l1[i]<0:\n",
    "        l1[i]=0        \n",
    "print(l1)\n"
   ]
  },
  {
   "cell_type": "code",
   "execution_count": 100,
   "id": "31bbca01-2f5e-419e-b66d-45c9c3c77d59",
   "metadata": {},
   "outputs": [
    {
     "name": "stdout",
     "output_type": "stream",
     "text": [
      "['ThIs', 'course', 'in', 'pwskills', 'is', 'Full', 'stack', 'Data', 'pwskills', 'scine', 'Pro', 'batch', 'pwskills']\n"
     ]
    }
   ],
   "source": [
    "#43. Convert a string into a list of words.\n",
    "str1=\"ThIs course in pwskills is Full stack Data pwskills scine Pro batch pwskills\"\n",
    "lt_st=str1.split()\n",
    "print(lt_st)"
   ]
  },
  {
   "cell_type": "code",
   "execution_count": 101,
   "id": "b3304b23-31c4-4f1a-a971-fe295fe3c790",
   "metadata": {},
   "outputs": [
    {
     "name": "stdout",
     "output_type": "stream",
     "text": [
      "ThIs course in pwskills is Full stack Data pwskills scine Pro batch pwskills\n"
     ]
    }
   ],
   "source": [
    "#44. Convert a list of words into a string.\n",
    "string=\" \".join(lt_st)\n",
    "print(string)"
   ]
  },
  {
   "cell_type": "code",
   "execution_count": 102,
   "id": "504b42c7-0daa-4160-bb29-305665535a85",
   "metadata": {},
   "outputs": [
    {
     "name": "stdout",
     "output_type": "stream",
     "text": [
      "[1, 2, 4, 8, 16]\n"
     ]
    }
   ],
   "source": [
    "#45. Create a list of the first `n` powers of 2.\n",
    "n=5\n",
    "lt=[2**i for i in range(n)]\n",
    "print(lt)"
   ]
  },
  {
   "cell_type": "code",
   "execution_count": 104,
   "id": "f7b4f20a-c69a-40f4-946f-cecc0ecbd393",
   "metadata": {},
   "outputs": [
    {
     "name": "stdout",
     "output_type": "stream",
     "text": [
      "pwskills\n"
     ]
    }
   ],
   "source": [
    "#46. Find the longest string in a list of strings.\n",
    "lt_st\n",
    "longest_str=\"\"\n",
    "for i in lt_st:\n",
    "    if len(i)>len(longest_str):\n",
    "        longest_str=i\n",
    "print(longest_str)\n",
    "                  "
   ]
  },
  {
   "cell_type": "code",
   "execution_count": 105,
   "id": "86abc460-1f2b-4628-b2ac-2e3571706633",
   "metadata": {},
   "outputs": [
    {
     "name": "stdout",
     "output_type": "stream",
     "text": [
      "in\n"
     ]
    }
   ],
   "source": [
    "#47. Find the shortest string in a list of strings.\n",
    "lt_st\n",
    "longest_str=lt_st[0]\n",
    "for i in lt_st:\n",
    "    if len(i)<len(longest_str):\n",
    "        longest_str=i\n",
    "print(longest_str)"
   ]
  },
  {
   "cell_type": "code",
   "execution_count": 106,
   "id": "3d77c4b1-cb3b-4826-aeba-f89ca31052a5",
   "metadata": {},
   "outputs": [
    {
     "name": "stdout",
     "output_type": "stream",
     "text": [
      "[0.0, 1.0, 3.0, 6.0, 10.0, 15.0]\n"
     ]
    }
   ],
   "source": [
    "#48. Create a list of the first `n` triangular numbers.\n",
    "lt=[i*(i+1)/2 for i in range(6)]\n",
    "print(lt)"
   ]
  },
  {
   "cell_type": "code",
   "execution_count": 108,
   "id": "7a2d6af5-065c-4395-9780-3cdbfdd96968",
   "metadata": {},
   "outputs": [
    {
     "name": "stdout",
     "output_type": "stream",
     "text": [
      "Main list contains the subsequence.\n"
     ]
    }
   ],
   "source": [
    "#49. Check if a list contains another list as a subsequence.\n",
    "def is_subsequence(subsequence, main_list):\n",
    "    subseq_index = 0  # Index for the subsequence elements\n",
    "    for element in main_list:\n",
    "        if element == subsequence[subseq_index]:\n",
    "            subseq_index += 1\n",
    "            if subseq_index == len(subsequence):\n",
    "                return True\n",
    "    return False\n",
    "\n",
    "# Example main list and subsequence\n",
    "main_list = [1, 2, 3, 4, 5, 6, 7, 8, 9, 10]\n",
    "subsequence = [3, 5, 8]\n",
    "\n",
    "# Check if the main list contains the subsequence\n",
    "if is_subsequence(subsequence, main_list):\n",
    "    print(\"Main list contains the subsequence.\")\n",
    "else:\n",
    "    print(\"Main list does not contain the subsequence.\")"
   ]
  },
  {
   "cell_type": "code",
   "execution_count": 109,
   "id": "f86ada4b-b850-4563-9a5b-f63b32ce7a33",
   "metadata": {},
   "outputs": [
    {
     "name": "stdout",
     "output_type": "stream",
     "text": [
      "[1, 4, 45, 8, 90, 6, 6, 7, 8]\n"
     ]
    }
   ],
   "source": [
    "#50. Swap two elements in a list by their indices.\n",
    "l=[1,4,6,8,90,45,6,7,8]\n",
    "temp=l[2]\n",
    "l[2]=l[5]\n",
    "l[5]=temp\n",
    "print(l)"
   ]
  },
  {
   "cell_type": "code",
   "execution_count": null,
   "id": "88b28bcf-b1cd-4ae2-8d45-94fe6b49fe89",
   "metadata": {},
   "outputs": [],
   "source": [
    "#-------------------Tuple Based Practice Problem :-------------------------"
   ]
  },
  {
   "cell_type": "code",
   "execution_count": 5,
   "id": "6da0a2d7-fa76-4ba4-87a6-41d6908db69f",
   "metadata": {},
   "outputs": [
    {
     "data": {
      "text/plain": [
       "tuple"
      ]
     },
     "execution_count": 5,
     "metadata": {},
     "output_type": "execute_result"
    }
   ],
   "source": [
    "#1. Create a tuple with integers from 1 to 5.\n",
    "tuple_new=(1,2,3,4,5)\n",
    "tuple_new\n",
    "type(tuple_new)"
   ]
  },
  {
   "cell_type": "code",
   "execution_count": 7,
   "id": "c590cd86-6864-47f4-96ed-58c64b497edf",
   "metadata": {},
   "outputs": [
    {
     "data": {
      "text/plain": [
       "3"
      ]
     },
     "execution_count": 7,
     "metadata": {},
     "output_type": "execute_result"
    }
   ],
   "source": [
    "#2. Access the third element of a tuple.\n",
    "ele3=tuple_new[2]\n",
    "ele3"
   ]
  },
  {
   "cell_type": "code",
   "execution_count": 8,
   "id": "c6c8b1fe-db69-4033-9f9c-d67d010971e3",
   "metadata": {},
   "outputs": [
    {
     "name": "stdout",
     "output_type": "stream",
     "text": [
      "5\n"
     ]
    }
   ],
   "source": [
    "#3. Find the length of a tuple without using the `len()` function.\n",
    "len_tup=0\n",
    "for i in tuple_new:\n",
    "    len_tup+=1\n",
    "print(len_tup)\n",
    "    "
   ]
  },
  {
   "cell_type": "code",
   "execution_count": 11,
   "id": "ef7f0b9f-5019-4acd-8202-691acb3e9650",
   "metadata": {},
   "outputs": [
    {
     "name": "stdout",
     "output_type": "stream",
     "text": [
      "element 4 occurs 3 times\n"
     ]
    }
   ],
   "source": [
    "#4. Count the occurrences of an element in a tuple.\n",
    "tup=(1,2,3,4,5,4,3,2,3,4,5)\n",
    "ele=4\n",
    "count=0\n",
    "for i in tup:\n",
    "    if i==ele:\n",
    "        count+=1\n",
    "print(f\"element {ele} occurs {count} times\")  \n"
   ]
  },
  {
   "cell_type": "code",
   "execution_count": 12,
   "id": "6817bddd-cda5-436a-976e-0b663101aadd",
   "metadata": {},
   "outputs": [
    {
     "name": "stdout",
     "output_type": "stream",
     "text": [
      "first occurrence of an element 4 in a tuple is 3\n"
     ]
    }
   ],
   "source": [
    "#5. Find the index of the first occurrence of an element in a tuple.\n",
    "tup=(1,2,3,4,5,4,3,2,3,4,5)\n",
    "ele=4\n",
    "first_occ=tup.index(ele)\n",
    "print(f\"first occurrence of an element {ele} in a tuple is {first_occ}\")"
   ]
  },
  {
   "cell_type": "code",
   "execution_count": 15,
   "id": "cd1b5055-1637-40d7-a7e7-15927fa433e3",
   "metadata": {},
   "outputs": [
    {
     "name": "stdout",
     "output_type": "stream",
     "text": [
      "yes\n"
     ]
    }
   ],
   "source": [
    "#6. Check if an element exists in a tuple.\n",
    "tup=(1,2,3,4,5,4,3,2,3,4,5)\n",
    "if 5 in tup:\n",
    "    print(\"yes\")\n",
    "else:\n",
    "    print(\"no\")"
   ]
  },
  {
   "cell_type": "code",
   "execution_count": 19,
   "id": "82af31a0-8133-40fa-9f4e-83227fac212b",
   "metadata": {},
   "outputs": [
    {
     "data": {
      "text/plain": [
       "[1, 2, 3, 4, 5, 4, 3, 2, 3, 4, 5]"
      ]
     },
     "execution_count": 19,
     "metadata": {},
     "output_type": "execute_result"
    }
   ],
   "source": [
    "#7. Convert a tuple to a list.\n",
    "list_tup=list(tup)\n",
    "list_tup"
   ]
  },
  {
   "cell_type": "code",
   "execution_count": 20,
   "id": "1cffa6c7-0b3b-4e7e-87aa-d1cd84c99630",
   "metadata": {},
   "outputs": [
    {
     "data": {
      "text/plain": [
       "(1, 2, 4, 5, 7, 8, 9, 5, 4, 6, 8)"
      ]
     },
     "execution_count": 20,
     "metadata": {},
     "output_type": "execute_result"
    }
   ],
   "source": [
    "#8. Convert a list to a tuple.\n",
    "lt=[1,2,4,5,7,8,9,5,4,6,8]\n",
    "tip1=tuple(lt)\n",
    "tip1"
   ]
  },
  {
   "cell_type": "code",
   "execution_count": 24,
   "id": "cfd7d8e9-cad3-4325-814b-b7b66661abab",
   "metadata": {},
   "outputs": [
    {
     "name": "stdout",
     "output_type": "stream",
     "text": [
      "3\n"
     ]
    }
   ],
   "source": [
    "#9. Unpack the elements of a tuple into variables.\n",
    "tup=(1,2,3,4)\n",
    "a,b,c,d=tup\n",
    "print(c)"
   ]
  },
  {
   "cell_type": "code",
   "execution_count": 28,
   "id": "e68823b3-613d-415e-a363-e7980283ee84",
   "metadata": {},
   "outputs": [
    {
     "data": {
      "text/plain": [
       "(2, 4, 6, 8, 10)"
      ]
     },
     "execution_count": 28,
     "metadata": {},
     "output_type": "execute_result"
    }
   ],
   "source": [
    "#10. Create a tuple of even numbers from 1 to 10.\n",
    "lt=[num for num in range(2,11,2)]\n",
    "tup=tuple(lt)\n",
    "tup"
   ]
  },
  {
   "cell_type": "code",
   "execution_count": 29,
   "id": "2b4c1269-0a96-4ed5-9e5b-59bac7a652df",
   "metadata": {},
   "outputs": [
    {
     "data": {
      "text/plain": [
       "(1, 3, 5, 7, 9)"
      ]
     },
     "execution_count": 29,
     "metadata": {},
     "output_type": "execute_result"
    }
   ],
   "source": [
    "#11. Create a tuple of odd numbers from 1 to 10.\n",
    "lt=[num for num in range(1,10,2)]\n",
    "tup=tuple(lt)\n",
    "tup"
   ]
  },
  {
   "cell_type": "code",
   "execution_count": 30,
   "id": "769be5a4-c09d-4ea2-bc42-6af4fde32d83",
   "metadata": {},
   "outputs": [
    {
     "data": {
      "text/plain": [
       "(1, 2, 3, 4, 5, 6, 7, 8, 9, 0)"
      ]
     },
     "execution_count": 30,
     "metadata": {},
     "output_type": "execute_result"
    }
   ],
   "source": [
    "#12. Concatenate two tuples.\n",
    "t1=(1,2,3,4,5)\n",
    "t2=(6,7,8,9,0)\n",
    "tt=t1+t2\n",
    "tt"
   ]
  },
  {
   "cell_type": "code",
   "execution_count": 31,
   "id": "ecb46c93-9f80-4ed2-b1cc-df94a7c896e1",
   "metadata": {},
   "outputs": [
    {
     "data": {
      "text/plain": [
       "(1, 2, 3, 4, 5, 1, 2, 3, 4, 5, 1, 2, 3, 4, 5)"
      ]
     },
     "execution_count": 31,
     "metadata": {},
     "output_type": "execute_result"
    }
   ],
   "source": [
    "#13. Repeat a tuple three times.\n",
    "t1=(1,2,3,4,5)\n",
    "t3=3*t1\n",
    "t3"
   ]
  },
  {
   "cell_type": "code",
   "execution_count": 40,
   "id": "5c2cf0e8-4304-41d4-8139-7550e5442400",
   "metadata": {},
   "outputs": [
    {
     "name": "stdout",
     "output_type": "stream",
     "text": [
      "not empty\n"
     ]
    }
   ],
   "source": [
    "#14. Check if a tuple is empty.\n",
    "tup=(3)\n",
    "if not tup:\n",
    "    print(\"empty\")\n",
    "else:\n",
    "    print(\"not empty\")"
   ]
  },
  {
   "cell_type": "code",
   "execution_count": 41,
   "id": "fb1da5a5-cc96-4e46-b57a-8483ee5355ef",
   "metadata": {},
   "outputs": [
    {
     "data": {
      "text/plain": [
       "tuple"
      ]
     },
     "execution_count": 41,
     "metadata": {},
     "output_type": "execute_result"
    }
   ],
   "source": [
    "#15. Create a nested tuple.\n",
    "tup1=(1,2,3,(5,6,(7,8),0,),10)\n",
    "type(tup1)"
   ]
  },
  {
   "cell_type": "code",
   "execution_count": 42,
   "id": "26fbf735-2c1d-4a00-a77a-f20bbd1361e5",
   "metadata": {},
   "outputs": [
    {
     "name": "stdout",
     "output_type": "stream",
     "text": [
      "1\n"
     ]
    }
   ],
   "source": [
    "#16. Access the first element of a nested tuple.\n",
    "print(tup1[0])"
   ]
  },
  {
   "cell_type": "code",
   "execution_count": 45,
   "id": "1ab1012a-0587-47e9-87a0-b4fa460a82eb",
   "metadata": {},
   "outputs": [
    {
     "data": {
      "text/plain": [
       "tuple"
      ]
     },
     "execution_count": 45,
     "metadata": {},
     "output_type": "execute_result"
    }
   ],
   "source": [
    "#17. Create a tuple with a single element.\n",
    "tup=(1,)\n",
    "type(tup)"
   ]
  },
  {
   "cell_type": "code",
   "execution_count": 50,
   "id": "910c1deb-e203-46dc-a31a-f60909e53651",
   "metadata": {},
   "outputs": [
    {
     "name": "stdout",
     "output_type": "stream",
     "text": [
      "t1 is bigger\n"
     ]
    }
   ],
   "source": [
    "#18. Compare two tuples.\n",
    "t1=(1,2,3,4)\n",
    "t2=(1,2)\n",
    "if t1==t2:\n",
    "    print(\"not equal\")\n",
    "elif t1<t2:\n",
    "    print(\"t2 is bigger\")\n",
    "elif t1>t2:\n",
    "    print(\"t1 is bigger\")\n",
    "else:\n",
    "    print(\"dont know\")\n",
    "    "
   ]
  },
  {
   "cell_type": "code",
   "execution_count": 53,
   "id": "8a8730b0-9262-4b77-845a-2ea07f5253d6",
   "metadata": {},
   "outputs": [
    {
     "ename": "NameError",
     "evalue": "name 't1' is not defined",
     "output_type": "error",
     "traceback": [
      "\u001b[0;31m---------------------------------------------------------------------------\u001b[0m",
      "\u001b[0;31mNameError\u001b[0m                                 Traceback (most recent call last)",
      "Cell \u001b[0;32mIn[53], line 5\u001b[0m\n\u001b[1;32m      3\u001b[0m t1\n\u001b[1;32m      4\u001b[0m \u001b[38;5;28;01mdel\u001b[39;00m t1\n\u001b[0;32m----> 5\u001b[0m \u001b[38;5;28mprint\u001b[39m(\u001b[43mt1\u001b[49m)\n",
      "\u001b[0;31mNameError\u001b[0m: name 't1' is not defined"
     ]
    }
   ],
   "source": [
    "#19. Delete a tuple.\n",
    "t1=(1,2,3,4)\n",
    "t1\n",
    "del t1\n",
    "print(t1)"
   ]
  },
  {
   "cell_type": "code",
   "execution_count": 55,
   "id": "aa2167af-279f-42dc-b0f2-e29a628a4490",
   "metadata": {},
   "outputs": [
    {
     "data": {
      "text/plain": [
       "(2, 3)"
      ]
     },
     "execution_count": 55,
     "metadata": {},
     "output_type": "execute_result"
    }
   ],
   "source": [
    "#20. Slice a tuple\n",
    "t1=(1,2,3,4)\n",
    "t2=t1[1:3]\n",
    "t2"
   ]
  },
  {
   "cell_type": "code",
   "execution_count": 56,
   "id": "d25fbc8f-28c6-49c7-b0c1-eed5647e0954",
   "metadata": {},
   "outputs": [
    {
     "data": {
      "text/plain": [
       "97"
      ]
     },
     "execution_count": 56,
     "metadata": {},
     "output_type": "execute_result"
    }
   ],
   "source": [
    "#21. Find the maximum value in a tuple.\n",
    "tup=(3,4,5,8,3,9,35,97)\n",
    "t1=max(tup)\n",
    "t1"
   ]
  },
  {
   "cell_type": "code",
   "execution_count": 57,
   "id": "f6465b9d-48d8-4fcc-b1d2-f821d58279e2",
   "metadata": {},
   "outputs": [
    {
     "data": {
      "text/plain": [
       "3"
      ]
     },
     "execution_count": 57,
     "metadata": {},
     "output_type": "execute_result"
    }
   ],
   "source": [
    "#22. Find the minimum value in a tuple.\n",
    "tup=(3,4,5,8,3,9,35,97)\n",
    "t1=min(tup)\n",
    "t1"
   ]
  },
  {
   "cell_type": "code",
   "execution_count": 58,
   "id": "99b72959-89fc-4256-879f-ce080ee0cf06",
   "metadata": {},
   "outputs": [
    {
     "data": {
      "text/plain": [
       "('s', 'u', 'd', 'h', 'a', 'n', 's', 'h', 'u')"
      ]
     },
     "execution_count": 58,
     "metadata": {},
     "output_type": "execute_result"
    }
   ],
   "source": [
    "#23. Convert a string to a tuple of characters.\n",
    "string=\"sudhanshu\"\n",
    "tup=tuple(string)\n",
    "tup"
   ]
  },
  {
   "cell_type": "code",
   "execution_count": 60,
   "id": "b33a063e-f8e8-4489-bb83-efe7c320c1ea",
   "metadata": {},
   "outputs": [
    {
     "data": {
      "text/plain": [
       "'sudhanshu'"
      ]
     },
     "execution_count": 60,
     "metadata": {},
     "output_type": "execute_result"
    }
   ],
   "source": [
    "#24. Convert a tuple of characters to a string.\n",
    "string1=\"\".join(tup)\n",
    "string1"
   ]
  },
  {
   "cell_type": "code",
   "execution_count": 62,
   "id": "cebf0777-3526-4ac1-a5cb-025f16564773",
   "metadata": {},
   "outputs": [
    {
     "data": {
      "text/plain": [
       "(1, 3.6, 'sudhansu', [2, 4, 6])"
      ]
     },
     "execution_count": 62,
     "metadata": {},
     "output_type": "execute_result"
    }
   ],
   "source": [
    "#25. Create a tuple from multiple data types.\n",
    "tup=(1,3.6,\"sudhansu\",[2,4,6])\n",
    "tup"
   ]
  },
  {
   "cell_type": "code",
   "execution_count": 64,
   "id": "92a5be0a-71a2-46f0-b748-b5dfc34b2b4d",
   "metadata": {},
   "outputs": [
    {
     "name": "stdout",
     "output_type": "stream",
     "text": [
      "False\n"
     ]
    }
   ],
   "source": [
    "#26. Check if two tuples are identical.\n",
    "t1=(1,2,3)\n",
    "t2=(1,2)\n",
    "print(t1==t2)"
   ]
  },
  {
   "cell_type": "code",
   "execution_count": 69,
   "id": "b49277ba-1924-46b3-b941-f0e8966629f3",
   "metadata": {},
   "outputs": [
    {
     "data": {
      "text/plain": [
       "[43464, 769, 768, 80, 34, 24, 23, 9, 6, 3, 3, 2]"
      ]
     },
     "execution_count": 69,
     "metadata": {},
     "output_type": "execute_result"
    }
   ],
   "source": [
    "#27. Sort the elements of a tuple.\n",
    "t1=(3,6,2,9,3,43464,768,23,769,80,34,24)\n",
    "sorted(t1,reverse=True)"
   ]
  },
  {
   "cell_type": "code",
   "execution_count": 72,
   "id": "2d2e2369-5bab-451f-8231-613baadd5507",
   "metadata": {},
   "outputs": [
    {
     "data": {
      "text/plain": [
       "('1', '2', '3', '4', '5')"
      ]
     },
     "execution_count": 72,
     "metadata": {},
     "output_type": "execute_result"
    }
   ],
   "source": [
    "#28. Convert a tuple of integers to a tuple of strings.\n",
    "tup=(1,2,3,4,5)\n",
    "tup2=tuple([str(i) for i in tup])\n",
    "tup2"
   ]
  },
  {
   "cell_type": "code",
   "execution_count": 73,
   "id": "dc868716-c722-45d5-b8aa-bfde34b0a003",
   "metadata": {},
   "outputs": [
    {
     "data": {
      "text/plain": [
       "(1, 2, 3, 4, 5)"
      ]
     },
     "execution_count": 73,
     "metadata": {},
     "output_type": "execute_result"
    }
   ],
   "source": [
    "#29. Convert a tuple of strings to a tuple of integers.\n",
    "\n",
    "tup3=tuple([int(i) for i in tup2])\n",
    "tup3"
   ]
  },
  {
   "cell_type": "code",
   "execution_count": 74,
   "id": "ada9de3c-a38c-4b68-96b3-02f8b9d65f5e",
   "metadata": {},
   "outputs": [
    {
     "data": {
      "text/plain": [
       "(1, 2, 3, 4, 6, 7, 8)"
      ]
     },
     "execution_count": 74,
     "metadata": {},
     "output_type": "execute_result"
    }
   ],
   "source": [
    "#30. Merge two tuples.\n",
    "t1=(1,2,3,4)\n",
    "t2=(6,7,8)\n",
    "tt=t1+t2\n",
    "tt"
   ]
  },
  {
   "cell_type": "code",
   "execution_count": 79,
   "id": "d7c4bbff-1634-49d4-b146-ae592bb159de",
   "metadata": {},
   "outputs": [
    {
     "name": "stdout",
     "output_type": "stream",
     "text": [
      "(1, 2, 3, 4, 5, 6, 7, 8, 9, 10, 11, 12)\n"
     ]
    }
   ],
   "source": [
    "#31. Flatten a nested tuple.\n",
    "def flat_tup(nest_tup):\n",
    "    flatten_tup=[]\n",
    "    for ele in nest_tup:\n",
    "        if isinstance(ele,tuple):\n",
    "            flatten_tup.extend(flat_tup(ele))\n",
    "        else:\n",
    "            flatten_tup.append(ele)\n",
    "    return flatten_tup\n",
    "\n",
    "nest_tup=(1,2,(3,4,(5,6,(7,8),9),10,11),12)\n",
    "\n",
    "flatten=tuple(flat_tup(nest_tup))\n",
    "\n",
    "print(flatten)"
   ]
  },
  {
   "cell_type": "code",
   "execution_count": 8,
   "id": "e415a74a-03aa-452e-b998-3ba58ee1556d",
   "metadata": {},
   "outputs": [
    {
     "name": "stdout",
     "output_type": "stream",
     "text": [
      "(2, 3, 5, 7, 11, 13, 17, 19, 23, 29, 31, 37, 41, 43, 47, 53, 59, 61, 67, 71, 73, 79, 83, 89, 97)\n"
     ]
    }
   ],
   "source": [
    "#32. Create a tuple of the first 5 prime numbers.\n",
    "\n",
    "def prim_num(num):\n",
    "    if num<=1:\n",
    "        return False\n",
    "    for i in range(2,int(num**0.5)+1):\n",
    "            if num%i==0:\n",
    "                return False\n",
    "    return True\n",
    "            \n",
    "prime_numbers=[num for num in range(2,100) if prim_num(num)]\n",
    "\n",
    "prime_tup=tuple(prime_numbers)\n",
    "\n",
    "print(prime_tup)"
   ]
  },
  {
   "cell_type": "code",
   "execution_count": 20,
   "id": "ae56ebf7-d32c-434b-86e2-0d1a8c18da0c",
   "metadata": {},
   "outputs": [
    {
     "data": {
      "text/plain": [
       "True"
      ]
     },
     "execution_count": 20,
     "metadata": {},
     "output_type": "execute_result"
    }
   ],
   "source": [
    "#33. Check if a tuple is a palindrome.\n",
    "tup=(1,2,3,0,0,3,2,1)\n",
    "tup1=tup[::-1]\n",
    "bool(tup==tup1)"
   ]
  },
  {
   "cell_type": "code",
   "execution_count": 15,
   "id": "845ce3e3-dc79-4b52-91ea-cc61c09ef578",
   "metadata": {},
   "outputs": [
    {
     "name": "stdout",
     "output_type": "stream",
     "text": [
      "(1, 4, 9, 16, 25)\n"
     ]
    }
   ],
   "source": [
    "#34. Create a tuple of squares of numbers from 1 to 5.\n",
    "lt=[num*num for num in range(1,6)]\n",
    "print(tuple(lt))"
   ]
  },
  {
   "cell_type": "code",
   "execution_count": 24,
   "id": "591cb4c7-49dc-44fc-926b-6c30c65e68e2",
   "metadata": {},
   "outputs": [
    {
     "name": "stdout",
     "output_type": "stream",
     "text": [
      "(1, 3, 45, 7, 67, 89, 43)\n"
     ]
    }
   ],
   "source": [
    "#35. Filter out all even numbers from a tuple.\n",
    "tup=(1,2,3,45,4,6,7,67,89,56,34,90,43)\n",
    "tup1=tuple(num for num in tup if num%2!=0)\n",
    "print(tup1)"
   ]
  },
  {
   "cell_type": "code",
   "execution_count": 23,
   "id": "bc51b77c-6e46-4138-80d4-970c363c55dd",
   "metadata": {},
   "outputs": [
    {
     "data": {
      "text/plain": [
       "(2, 4, 6, 90, 8, 12, 14, 134, 178, 112, 68, 180, 86)"
      ]
     },
     "execution_count": 23,
     "metadata": {},
     "output_type": "execute_result"
    }
   ],
   "source": [
    "#36. Multiply all elements in a tuple by 2.\n",
    "tup\n",
    "tup_new=tuple(num*2 for num in tup)\n",
    "tup_new"
   ]
  },
  {
   "cell_type": "code",
   "execution_count": 26,
   "id": "3bab28da-516d-402f-83b0-6960a602287b",
   "metadata": {},
   "outputs": [
    {
     "data": {
      "text/plain": [
       "(28, 21, 34, 2, 2, 15, 39, 5, 23, 6)"
      ]
     },
     "execution_count": 26,
     "metadata": {},
     "output_type": "execute_result"
    }
   ],
   "source": [
    "#37. Create a tuple of random numbers.\n",
    "import random\n",
    "tup_rand=tuple(random.randint(1,40) for i in range(10))\n",
    "tup_rand"
   ]
  },
  {
   "cell_type": "code",
   "execution_count": 30,
   "id": "80f88dd1-c647-4ed2-a233-286596f1c766",
   "metadata": {},
   "outputs": [
    {
     "name": "stdout",
     "output_type": "stream",
     "text": [
      "tuple is sorted True\n",
      "tuple is not sorted False\n"
     ]
    }
   ],
   "source": [
    "#38. Check if a tuple is sorted.\n",
    "tup1=(1,3,54,33,78,7634,5,78,435,657,878)\n",
    "tup2=sorted(tup1)\n",
    "\n",
    "def tup_sort(tup):\n",
    "    for i in range(len(tup)-1):\n",
    "        if tup[i]>tup[i+1]:\n",
    "            return False\n",
    "    return True\n",
    "print(\"tuple is sorted\",tup_sort(tup2))\n",
    "print(\"tuple is not sorted\",tup_sort(tup1))  \n"
   ]
  },
  {
   "cell_type": "code",
   "execution_count": 32,
   "id": "624b091a-78a8-4527-9c21-bee437359623",
   "metadata": {},
   "outputs": [
    {
     "data": {
      "text/plain": [
       "(7, 89, 56, 43, 45, 65, 1, 2, 3, 4, 56)"
      ]
     },
     "execution_count": 32,
     "metadata": {},
     "output_type": "execute_result"
    }
   ],
   "source": [
    "#39. Rotate a tuple to the left by `n` positions.\n",
    "n=5\n",
    "tup=(1,2,3,4,56,7,89,56,43,45,65)\n",
    "tup1=tup[n:]+tup[:n]\n",
    "tup1"
   ]
  },
  {
   "cell_type": "code",
   "execution_count": 33,
   "id": "46c93af5-70a1-49d8-86ba-e4c0991ec4e1",
   "metadata": {},
   "outputs": [
    {
     "data": {
      "text/plain": [
       "(89, 56, 43, 45, 65, 1, 2, 3, 4, 56, 7)"
      ]
     },
     "execution_count": 33,
     "metadata": {},
     "output_type": "execute_result"
    }
   ],
   "source": [
    "#40. Rotate a tuple to the right by `n` positions.\n",
    "n=5\n",
    "tup=(1,2,3,4,56,7,89,56,43,45,65)\n",
    "tup1=tup[-n:]+tup[:-n]\n",
    "tup1"
   ]
  },
  {
   "cell_type": "code",
   "execution_count": 45,
   "id": "5219ce27-261d-46da-9696-769b7d48c26b",
   "metadata": {},
   "outputs": [
    {
     "name": "stdout",
     "output_type": "stream",
     "text": [
      "(0, 1, 1, 2, 3)\n"
     ]
    }
   ],
   "source": [
    "#41. Create a tuple of the first 5 Fibonacci numbers.\n",
    "def fib_num(n):\n",
    "    if n<=1:\n",
    "        return n\n",
    "    else:\n",
    "        return fib_num(n-1)+fib_num(n-2)\n",
    "\n",
    "fib_tup=tuple(fib_num(num) for num in range(5))\n",
    "print(fib_tup)        "
   ]
  },
  {
   "cell_type": "code",
   "execution_count": 49,
   "id": "bab9e242-fce6-4bf2-b592-d39c129df7ff",
   "metadata": {},
   "outputs": [
    {
     "name": "stdin",
     "output_type": "stream",
     "text": [
      "enter the tuple 12344\n"
     ]
    },
    {
     "data": {
      "text/plain": [
       "('1', '2', '3', '4', '4')"
      ]
     },
     "execution_count": 49,
     "metadata": {},
     "output_type": "execute_result"
    }
   ],
   "source": [
    "#42. Create a tuple from user input.\n",
    "tup=tuple(input(\"enter the tuple\"))\n",
    "tup"
   ]
  },
  {
   "cell_type": "code",
   "execution_count": 59,
   "id": "4acb2aa6-f432-4ab0-9e23-f69f47992bcb",
   "metadata": {},
   "outputs": [
    {
     "data": {
      "text/plain": [
       "(1, 2, 6, 5, 78, 9)"
      ]
     },
     "execution_count": 59,
     "metadata": {},
     "output_type": "execute_result"
    }
   ],
   "source": [
    "#43. Swap two elements in a tuple.\n",
    "tup=(1,2,5,6,78,9)\n",
    "tup=list(tup)\n",
    "tup[2],tup[3]=tup[3],tup[2]\n",
    "tuple(tup)"
   ]
  },
  {
   "cell_type": "code",
   "execution_count": 61,
   "id": "07de3680-5616-4af9-b444-ebdb56b2dd62",
   "metadata": {},
   "outputs": [
    {
     "name": "stdout",
     "output_type": "stream",
     "text": [
      "(90, 6, 5, 4, 3, 2, 1)\n"
     ]
    }
   ],
   "source": [
    "#44. Reverse the elements of a tuple.\n",
    "tup=(1,2,3,4,5,6,90)\n",
    "print(tup[::-1])"
   ]
  },
  {
   "cell_type": "code",
   "execution_count": 64,
   "id": "a5c951fe-c17d-4891-a4e7-3827a779e5d1",
   "metadata": {},
   "outputs": [
    {
     "data": {
      "text/plain": [
       "(1, 2, 4, 8, 16, 32, 64, 128, 256, 512)"
      ]
     },
     "execution_count": 64,
     "metadata": {},
     "output_type": "execute_result"
    }
   ],
   "source": [
    "#45. Create a tuple of the first `n` powers of 2.\n",
    "tup=tuple(2**n for n in range(10))\n",
    "tup"
   ]
  },
  {
   "cell_type": "code",
   "execution_count": 82,
   "id": "af24c622-ee18-4f66-a421-36961645b018",
   "metadata": {},
   "outputs": [
    {
     "data": {
      "text/plain": [
       "'kumar'"
      ]
     },
     "execution_count": 82,
     "metadata": {},
     "output_type": "execute_result"
    }
   ],
   "source": [
    "#46. Find the longest string in a tuple of strings.\n",
    "tup=[\"sudh\",\"kumar\",\"krish\",\"naik\"]\n",
    "longest_string=max(tup,key=len)\n",
    "longest_string"
   ]
  },
  {
   "cell_type": "code",
   "execution_count": 83,
   "id": "0b133f5c-0be1-4a72-9813-693fbfc8b7c2",
   "metadata": {},
   "outputs": [
    {
     "data": {
      "text/plain": [
       "'sudh'"
      ]
     },
     "execution_count": 83,
     "metadata": {},
     "output_type": "execute_result"
    }
   ],
   "source": [
    "#47. Find the shortest string in a tuple of strings.\n",
    "tup=[\"sudh\",\"kumar\",\"krish\",\"naik\"]\n",
    "short_string=min(tup,key=len)\n",
    "short_string"
   ]
  },
  {
   "cell_type": "code",
   "execution_count": 85,
   "id": "a86b0c1c-c059-4614-870a-80b3109e6e30",
   "metadata": {},
   "outputs": [
    {
     "data": {
      "text/plain": [
       "(0, 1, 3, 6, 10, 15, 21, 28, 36, 45)"
      ]
     },
     "execution_count": 85,
     "metadata": {},
     "output_type": "execute_result"
    }
   ],
   "source": [
    "#48. Create a tuple of the first `n` triangular numbers.\n",
    "n=10\n",
    "tup_tri=tuple(int(i*(i+1)/2) for i in range(n))\n",
    "tup_tri"
   ]
  },
  {
   "cell_type": "code",
   "execution_count": 89,
   "id": "1e373a6d-902b-4f05-9bf1-840d9cd1dfe5",
   "metadata": {},
   "outputs": [
    {
     "name": "stdout",
     "output_type": "stream",
     "text": [
      "True\n"
     ]
    }
   ],
   "source": [
    "#49. Check if a tuple contains another tuple as a subsequence.\n",
    "def sub_tup_seq(main_tup,sub_tup):\n",
    "    for i in range(len(main_tup)-len(sub_tup)+1):\n",
    "        if main_tup[i:i+len(sub_tup)]==sub_tup:\n",
    "            return True\n",
    "    return False\n",
    "main_tup=(1,2,3,4,56,67,43,34)\n",
    "sub_tup=(56,67)\n",
    "\n",
    "print(sub_tup_seq(main_tup,sub_tup))"
   ]
  },
  {
   "cell_type": "code",
   "execution_count": 91,
   "id": "91e10c95-b935-4060-aac9-48f21333b803",
   "metadata": {},
   "outputs": [
    {
     "data": {
      "text/plain": [
       "(0, 1, 0, 1, 0, 1, 0, 1, 0, 1)"
      ]
     },
     "execution_count": 91,
     "metadata": {},
     "output_type": "execute_result"
    }
   ],
   "source": [
    "#50. Create a tuple of alternating 1s and 0s of length `n`\n",
    "n=10\n",
    "tup=tuple(i%2 for i in range(n))\n",
    "tup"
   ]
  },
  {
   "cell_type": "code",
   "execution_count": null,
   "id": "23c571e4-fcc0-414e-9239-fabba826e3b0",
   "metadata": {},
   "outputs": [],
   "source": [
    "##--------------------------------Set Based Practice Problem :----------------------------------"
   ]
  },
  {
   "cell_type": "code",
   "execution_count": 108,
   "id": "4937257f-5576-428b-982c-2ea5968b0c84",
   "metadata": {},
   "outputs": [
    {
     "data": {
      "text/plain": [
       "{1, 2, 3, 4, 5}"
      ]
     },
     "execution_count": 108,
     "metadata": {},
     "output_type": "execute_result"
    }
   ],
   "source": [
    "#1. Create a set with integers from 1 to 5.\n",
    "s1=set([num for num in range(1,6)])\n",
    "s1"
   ]
  },
  {
   "cell_type": "code",
   "execution_count": 109,
   "id": "13cd22a9-5498-46f4-b090-70cbd8981ccf",
   "metadata": {},
   "outputs": [
    {
     "data": {
      "text/plain": [
       "{1, 2, 3, 4, 5, 6}"
      ]
     },
     "execution_count": 109,
     "metadata": {},
     "output_type": "execute_result"
    }
   ],
   "source": [
    "#2. Add an element to a set.\n",
    "s1.add(6)\n",
    "s1"
   ]
  },
  {
   "cell_type": "code",
   "execution_count": 110,
   "id": "724d3369-d4c1-45cd-a463-7a9dd4e7750c",
   "metadata": {},
   "outputs": [
    {
     "data": {
      "text/plain": [
       "{1, 2, 3, 5, 6}"
      ]
     },
     "execution_count": 110,
     "metadata": {},
     "output_type": "execute_result"
    }
   ],
   "source": [
    "#3. Remove an element from a set.\n",
    "s1.remove(4)\n",
    "s1"
   ]
  },
  {
   "cell_type": "code",
   "execution_count": 116,
   "id": "731e11d9-e14c-4031-89d1-267a371db601",
   "metadata": {},
   "outputs": [
    {
     "name": "stdout",
     "output_type": "stream",
     "text": [
      "yes\n"
     ]
    }
   ],
   "source": [
    "#4. Check if an element exists in a set.\n",
    "ele=5\n",
    "for i in s1:\n",
    "    if i==ele:\n",
    "        print(\"yes\")"
   ]
  },
  {
   "cell_type": "code",
   "execution_count": 117,
   "id": "d521e1bb-2845-464f-9ad6-03c6e154e544",
   "metadata": {},
   "outputs": [
    {
     "name": "stdout",
     "output_type": "stream",
     "text": [
      "7\n"
     ]
    }
   ],
   "source": [
    "#5. Find the length of a set without using the `len()` function.\n",
    "s1={1,2,3,5,6,7,9}\n",
    "len_set=0\n",
    "for i in s1:\n",
    "    len_set+=1\n",
    "print(len_set)\n",
    "    "
   ]
  },
  {
   "cell_type": "code",
   "execution_count": 119,
   "id": "378e8bc4-7836-46e9-98f4-327efc9325b6",
   "metadata": {},
   "outputs": [
    {
     "data": {
      "text/plain": [
       "set()"
      ]
     },
     "execution_count": 119,
     "metadata": {},
     "output_type": "execute_result"
    }
   ],
   "source": [
    "#6. Clear all elements from a set.\n",
    "s1.clear()\n",
    "s1"
   ]
  },
  {
   "cell_type": "code",
   "execution_count": 120,
   "id": "34098913-cde1-48dc-aaae-366e6007cf8a",
   "metadata": {},
   "outputs": [
    {
     "data": {
      "text/plain": [
       "{2, 4, 6, 8, 10}"
      ]
     },
     "execution_count": 120,
     "metadata": {},
     "output_type": "execute_result"
    }
   ],
   "source": [
    "#7. Create a set of even numbers from 1 to 10.\n",
    "s1=set(num for num in range(1,11) if num%2==0)\n",
    "s1"
   ]
  },
  {
   "cell_type": "code",
   "execution_count": 121,
   "id": "920d0052-abfe-4b8b-b142-f1e0249e606a",
   "metadata": {},
   "outputs": [
    {
     "data": {
      "text/plain": [
       "{1, 3, 5, 7, 9}"
      ]
     },
     "execution_count": 121,
     "metadata": {},
     "output_type": "execute_result"
    }
   ],
   "source": [
    "#8. Create a set of odd numbers from 1 to 10.\n",
    "s1=set(num for num in range(1,11) if num%2!=0)\n",
    "s1"
   ]
  },
  {
   "cell_type": "code",
   "execution_count": 126,
   "id": "dcdc3ddc-b240-4d78-baa4-80ee1881a81b",
   "metadata": {},
   "outputs": [
    {
     "data": {
      "text/plain": [
       "{1, 2, 3, 4, 5, 6, 7, 8}"
      ]
     },
     "execution_count": 126,
     "metadata": {},
     "output_type": "execute_result"
    }
   ],
   "source": [
    "#9. Find the union of two sets.\n",
    "s1={1,2,3,4,8}\n",
    "s2={4,5,6,7,8}\n",
    "s=s1.union(s2)\n",
    "s"
   ]
  },
  {
   "cell_type": "code",
   "execution_count": 127,
   "id": "c1b17103-3dff-42a6-ae96-79b979fd64b6",
   "metadata": {},
   "outputs": [
    {
     "data": {
      "text/plain": [
       "{4, 8}"
      ]
     },
     "execution_count": 127,
     "metadata": {},
     "output_type": "execute_result"
    }
   ],
   "source": [
    "#10. Find the intersection of two sets.\n",
    "s=s1.intersection(s2)\n",
    "s"
   ]
  },
  {
   "cell_type": "code",
   "execution_count": 129,
   "id": "969c8bc3-06a0-45cd-9643-f23556e8a93e",
   "metadata": {},
   "outputs": [
    {
     "data": {
      "text/plain": [
       "{5, 6, 7}"
      ]
     },
     "execution_count": 129,
     "metadata": {},
     "output_type": "execute_result"
    }
   ],
   "source": [
    "#11. Find the difference between two sets.\n",
    "s=s2.difference(s1)\n",
    "s"
   ]
  },
  {
   "cell_type": "code",
   "execution_count": 132,
   "id": "d93eb08c-9bf9-4837-9d6d-b73e45cd9c88",
   "metadata": {},
   "outputs": [
    {
     "data": {
      "text/plain": [
       "True"
      ]
     },
     "execution_count": 132,
     "metadata": {},
     "output_type": "execute_result"
    }
   ],
   "source": [
    "#12. Check if a set is a subset of another set.\n",
    "s1={1,2,3,4,5,6,7,8,9}\n",
    "s2={4,5,6,7}\n",
    "s2.issubset(s1)"
   ]
  },
  {
   "cell_type": "code",
   "execution_count": 134,
   "id": "261c4f16-1526-49de-93dc-4685c4d32a1f",
   "metadata": {},
   "outputs": [
    {
     "data": {
      "text/plain": [
       "True"
      ]
     },
     "execution_count": 134,
     "metadata": {},
     "output_type": "execute_result"
    }
   ],
   "source": [
    "#13. Check if a set is a superset of another set.\n",
    "s1={1,2,3,4,5,6,7,8,9}\n",
    "s2={4,5,6,7}\n",
    "s1.issuperset(s2)"
   ]
  },
  {
   "cell_type": "code",
   "execution_count": 135,
   "id": "afa6c2ec-12a8-4ade-8eb9-c002d07103f9",
   "metadata": {},
   "outputs": [
    {
     "data": {
      "text/plain": [
       "{1, 2, 3, 4, 5, 6, 12, 45, 233, 324, 445, 6754}"
      ]
     },
     "execution_count": 135,
     "metadata": {},
     "output_type": "execute_result"
    }
   ],
   "source": [
    "#14. Create a set from a list.\n",
    "lt=[1,2,3,4,5,6,6754,324,3,12,233,445,45,6]\n",
    "s1=set(lt)\n",
    "s1"
   ]
  },
  {
   "cell_type": "code",
   "execution_count": 136,
   "id": "2fb63e1a-26be-41af-b7d0-35392500827e",
   "metadata": {},
   "outputs": [
    {
     "name": "stdout",
     "output_type": "stream",
     "text": [
      "[1, 2, 3, 4, 5, 6, 6754, 324, 233, 12, 45, 445]\n"
     ]
    }
   ],
   "source": [
    "#15. Convert a set to a list.\n",
    "print(list(s1))"
   ]
  },
  {
   "cell_type": "code",
   "execution_count": 143,
   "id": "4f2b104d-febe-4e1c-8f64-863b3e3d58d0",
   "metadata": {},
   "outputs": [
    {
     "name": "stdout",
     "output_type": "stream",
     "text": [
      "None\n"
     ]
    },
    {
     "data": {
      "text/plain": [
       "{3, 5, 12, 45, 233, 324, 445}"
      ]
     },
     "execution_count": 143,
     "metadata": {},
     "output_type": "execute_result"
    }
   ],
   "source": [
    "#16. Remove a random element from a set.\n",
    "print(s1.remove(4))\n",
    "s1"
   ]
  },
  {
   "cell_type": "code",
   "execution_count": 146,
   "id": "18673bed-2418-48cc-af81-dbd244ab5726",
   "metadata": {},
   "outputs": [
    {
     "data": {
      "text/plain": [
       "{12, 45, 233, 324, 445}"
      ]
     },
     "execution_count": 146,
     "metadata": {},
     "output_type": "execute_result"
    }
   ],
   "source": [
    "#17. Pop an element from a set.\n",
    "s1.pop()\n",
    "s1"
   ]
  },
  {
   "cell_type": "code",
   "execution_count": 147,
   "id": "54ca5b4b-d898-43c3-bd98-7f6bae488389",
   "metadata": {},
   "outputs": [
    {
     "data": {
      "text/plain": [
       "set()"
      ]
     },
     "execution_count": 147,
     "metadata": {},
     "output_type": "execute_result"
    }
   ],
   "source": [
    "#18. Check if two sets have no elements in common.\n",
    "s1.intersection(s2)"
   ]
  },
  {
   "cell_type": "code",
   "execution_count": 148,
   "id": "a6ccc2eb-f80f-49a8-9588-86782b1c8ac6",
   "metadata": {},
   "outputs": [
    {
     "data": {
      "text/plain": [
       "{1, 4, 6, 7, 8, 32, 45}"
      ]
     },
     "execution_count": 148,
     "metadata": {},
     "output_type": "execute_result"
    }
   ],
   "source": [
    "#19. Find the symmetric difference between two sets.\n",
    "s1={1,2,3,4,5,6}\n",
    "s2={2,32,3,45,7,8,5}\n",
    "s=s1^s2\n",
    "s"
   ]
  },
  {
   "cell_type": "code",
   "execution_count": 6,
   "id": "1614d08d-8d67-478a-8510-8736cae0b121",
   "metadata": {},
   "outputs": [
    {
     "data": {
      "text/plain": [
       "{1, 2, 3, 4, 5, 6, 7}"
      ]
     },
     "execution_count": 6,
     "metadata": {},
     "output_type": "execute_result"
    }
   ],
   "source": [
    "#20. Update a set with elements from another set.\n",
    "s1={1,2,3,4}\n",
    "s2={3,4,5,6,7}\n",
    "s1.update(s2)\n",
    "s1"
   ]
  },
  {
   "cell_type": "code",
   "execution_count": 11,
   "id": "63e8c9f0-4fbf-4339-9cfb-e7245261409c",
   "metadata": {},
   "outputs": [
    {
     "name": "stdout",
     "output_type": "stream",
     "text": [
      "{2, 3, 5, 7, 11}\n"
     ]
    }
   ],
   "source": [
    "#21. Create a set of the first 5 prime numbers.\n",
    "def is_prime(num):\n",
    "    if num<=1:\n",
    "        return False\n",
    "    for i in range(2,int(num**.5)+1):\n",
    "        if num%i==0:\n",
    "            return False\n",
    "    return True\n",
    "\n",
    "prime_num=[num for num in range(100) if is_prime(num)][:5]\n",
    "print(set(prime_num))"
   ]
  },
  {
   "cell_type": "code",
   "execution_count": 20,
   "id": "4e5c7d56-7ed3-410d-8903-6856568fa559",
   "metadata": {},
   "outputs": [
    {
     "data": {
      "text/plain": [
       "False"
      ]
     },
     "execution_count": 20,
     "metadata": {},
     "output_type": "execute_result"
    }
   ],
   "source": [
    "#22. Check if two sets are identical.\n",
    "s1==s2"
   ]
  },
  {
   "cell_type": "code",
   "execution_count": 21,
   "id": "c2746af7-1633-4400-8552-f81e4cf11517",
   "metadata": {},
   "outputs": [
    {
     "data": {
      "text/plain": [
       "frozenset({1, 2, 3, 4, 5})"
      ]
     },
     "execution_count": 21,
     "metadata": {},
     "output_type": "execute_result"
    }
   ],
   "source": [
    "#23. Create a frozen set.\n",
    "li=[1,2,3,4,5]\n",
    "s1=frozenset(li)\n",
    "s1"
   ]
  },
  {
   "cell_type": "code",
   "execution_count": 23,
   "id": "95882363-5c63-4b76-9d56-28173e00bbd8",
   "metadata": {},
   "outputs": [
    {
     "data": {
      "text/plain": [
       "True"
      ]
     },
     "execution_count": 23,
     "metadata": {},
     "output_type": "execute_result"
    }
   ],
   "source": [
    "#24. Check if a set is disjoint with another set.\n",
    "s1={1,2,3,4,5}\n",
    "s2={6,7,8}\n",
    "s1.isdisjoint(s2)"
   ]
  },
  {
   "cell_type": "code",
   "execution_count": 24,
   "id": "8b7b6fb7-aa07-424a-aa38-d66afad67bf7",
   "metadata": {},
   "outputs": [
    {
     "data": {
      "text/plain": [
       "{1, 4, 9, 16, 25}"
      ]
     },
     "execution_count": 24,
     "metadata": {},
     "output_type": "execute_result"
    }
   ],
   "source": [
    "#25. Create a set of squares of numbers from 1 to 5.\n",
    "s1=set(i*i for i in range(1,6))\n",
    "s1"
   ]
  },
  {
   "cell_type": "code",
   "execution_count": 25,
   "id": "5955133b-498b-475a-83a2-59bb684d09fb",
   "metadata": {},
   "outputs": [
    {
     "data": {
      "text/plain": [
       "{1, 3, 5, 7, 89, 879}"
      ]
     },
     "execution_count": 25,
     "metadata": {},
     "output_type": "execute_result"
    }
   ],
   "source": [
    "#26. Filter out all even numbers from a set.\n",
    "s1={1,2,3,4,5,6,7,8,10,34,46,6,879,8,89}\n",
    "s1_ev_out=set(num for num in s1 if num%2!=0)\n",
    "s1_ev_out"
   ]
  },
  {
   "cell_type": "code",
   "execution_count": 26,
   "id": "b9fe68e2-843c-4a78-83e2-12082c359066",
   "metadata": {},
   "outputs": [
    {
     "data": {
      "text/plain": [
       "{2, 4, 6, 8, 10, 12, 14, 16, 20, 68, 92, 178, 1758}"
      ]
     },
     "execution_count": 26,
     "metadata": {},
     "output_type": "execute_result"
    }
   ],
   "source": [
    "#27. Multiply all elements in a set by 2.\n",
    "set1=set(i*2 for i in s1)\n",
    "set1"
   ]
  },
  {
   "cell_type": "code",
   "execution_count": 29,
   "id": "2aed366d-bc2f-432f-bffa-765542ca303b",
   "metadata": {},
   "outputs": [
    {
     "data": {
      "text/plain": [
       "{7, 30, 39, 40, 41, 72, 84, 85, 94, 99}"
      ]
     },
     "execution_count": 29,
     "metadata": {},
     "output_type": "execute_result"
    }
   ],
   "source": [
    "#28. Create a set of random numbers.\n",
    "import random\n",
    "s3=set(random.randint(1,100) for i in range(10))\n",
    "s3"
   ]
  },
  {
   "cell_type": "code",
   "execution_count": 30,
   "id": "7a435e47-f3dc-4125-b446-bb487ccd0fa8",
   "metadata": {},
   "outputs": [
    {
     "data": {
      "text/plain": [
       "set()"
      ]
     },
     "execution_count": 30,
     "metadata": {},
     "output_type": "execute_result"
    }
   ],
   "source": [
    "#29. Check if a set is empty.\n",
    "s1=set()\n",
    "s1"
   ]
  },
  {
   "cell_type": "code",
   "execution_count": 36,
   "id": "f849fde4-f18a-402b-9692-eb5959bc551f",
   "metadata": {},
   "outputs": [
    {
     "data": {
      "text/plain": [
       "{frozenset({1, 2, 3, 4}), frozenset({4, 5, 6, 7})}"
      ]
     },
     "execution_count": 36,
     "metadata": {},
     "output_type": "execute_result"
    }
   ],
   "source": [
    "#30. Create a nested set (hint: use frozenset).\n",
    "s1={1,2,3,4}\n",
    "s2={4,5,6,7}\n",
    "f_s1=frozenset(s1)\n",
    "f_s2=frozenset(s2)\n",
    "n_s={f_s1,f_s2}\n",
    "n_s"
   ]
  },
  {
   "cell_type": "code",
   "execution_count": 40,
   "id": "9e175725-4cd0-4e2b-a453-d9ef3fb1ba98",
   "metadata": {},
   "outputs": [
    {
     "data": {
      "text/plain": [
       "{1, 2, 3, 5, 6, 7}"
      ]
     },
     "execution_count": 40,
     "metadata": {},
     "output_type": "execute_result"
    }
   ],
   "source": [
    "#31. Remove an element from a set using the discard method.\n",
    "s1={1,2,3,4,5,6,7}\n",
    "s1.discard(4)\n",
    "s1"
   ]
  },
  {
   "cell_type": "code",
   "execution_count": 46,
   "id": "23e069dd-a174-4456-9086-c7009076d0d2",
   "metadata": {},
   "outputs": [
    {
     "name": "stdout",
     "output_type": "stream",
     "text": [
      "False\n",
      "False\n",
      "{5, 6, 7, 8, 9}\n",
      "{1, 2, 3, 4, 5, 6, 7, 8, 9, 67, 10, 12, 24, 43, 46, 56, 6845}\n",
      "{1, 2, 3, 4}\n",
      "{67, 10, 43, 12, 46, 56, 24, 6845}\n"
     ]
    }
   ],
   "source": [
    "#32. Compare two sets.\n",
    "s1={1,2,3,4,5,6,7,8,9}\n",
    "s2={5,6,7,8,9,10,12,43,56,6845,24,46,67}\n",
    "print(s1.issubset(s2))\n",
    "print(s1.issuperset(s2))\n",
    "print(s1.intersection(s2))\n",
    "print(s1.union(s2))\n",
    "print(s1.difference(s2))\n",
    "print(s2.difference(s1))"
   ]
  },
  {
   "cell_type": "code",
   "execution_count": 47,
   "id": "2b60e8ea-8d39-4e34-a190-94b6c0ada6dc",
   "metadata": {},
   "outputs": [
    {
     "data": {
      "text/plain": [
       "{'i', 'k', 'l', 'p', 's', 'w'}"
      ]
     },
     "execution_count": 47,
     "metadata": {},
     "output_type": "execute_result"
    }
   ],
   "source": [
    "#33. Create a set from a string.\n",
    "string=\"pwskills\"\n",
    "s1=set(string)\n",
    "s1"
   ]
  },
  {
   "cell_type": "code",
   "execution_count": 50,
   "id": "8da554a8-a850-4b11-b131-63191f21ab6e",
   "metadata": {},
   "outputs": [
    {
     "data": {
      "text/plain": [
       "{1, 2, 3, 4, 5}"
      ]
     },
     "execution_count": 50,
     "metadata": {},
     "output_type": "execute_result"
    }
   ],
   "source": [
    "#34. Convert a set of strings to a set of integers.\n",
    "s1={'1','2','3','4','5'}\n",
    "s2=set(int(i) for i in s1)\n",
    "s2"
   ]
  },
  {
   "cell_type": "code",
   "execution_count": 52,
   "id": "d0b9c8d6-0ba7-4ffe-808d-053aea32ff76",
   "metadata": {},
   "outputs": [
    {
     "data": {
      "text/plain": [
       "{'1', '2', '3', '4', '5'}"
      ]
     },
     "execution_count": 52,
     "metadata": {},
     "output_type": "execute_result"
    }
   ],
   "source": [
    "#35. Convert a set of integers to a set of strings.\n",
    "s3=set(str(i) for i in s2)\n",
    "s3"
   ]
  },
  {
   "cell_type": "code",
   "execution_count": 53,
   "id": "a1926161-58ed-4bf6-89c3-03ed099394c5",
   "metadata": {},
   "outputs": [
    {
     "data": {
      "text/plain": [
       "{1, 2, 3, 4, 5, 32, 46, 62, 64, 65, 678}"
      ]
     },
     "execution_count": 53,
     "metadata": {},
     "output_type": "execute_result"
    }
   ],
   "source": [
    "#36. Create a set from a tuple.\n",
    "tup=(1,2,3,4,5,64,5,3,62,2,32,46,65,678)\n",
    "s1=set(tup)\n",
    "s1"
   ]
  },
  {
   "cell_type": "code",
   "execution_count": 54,
   "id": "a68f1c5a-552e-4981-8507-49551ccc211d",
   "metadata": {},
   "outputs": [
    {
     "data": {
      "text/plain": [
       "(64, 1, 2, 3, 4, 5, 32, 65, 678, 46, 62)"
      ]
     },
     "execution_count": 54,
     "metadata": {},
     "output_type": "execute_result"
    }
   ],
   "source": [
    "#37. Convert a set to a tuple.\n",
    "tup1=tuple(s1)\n",
    "tup1"
   ]
  },
  {
   "cell_type": "code",
   "execution_count": 56,
   "id": "dc70d3da-47b8-4250-a01a-3ff1ea52f3a3",
   "metadata": {},
   "outputs": [
    {
     "name": "stdout",
     "output_type": "stream",
     "text": [
      "678\n"
     ]
    }
   ],
   "source": [
    "#38. Find the maximum value in a set.\n",
    "s1\n",
    "print(max(s1))"
   ]
  },
  {
   "cell_type": "code",
   "execution_count": 57,
   "id": "6041fb16-c944-4a3c-9604-ea838b6a654f",
   "metadata": {},
   "outputs": [
    {
     "name": "stdout",
     "output_type": "stream",
     "text": [
      "1\n"
     ]
    }
   ],
   "source": [
    "#39. Find the minimum value in a set.\n",
    "print(min(s1))"
   ]
  },
  {
   "cell_type": "code",
   "execution_count": 58,
   "id": "fc04ca07-954f-4d81-9d8f-b1230fb92a6e",
   "metadata": {},
   "outputs": [
    {
     "name": "stdin",
     "output_type": "stream",
     "text": [
      "enter set elements 1234567\n"
     ]
    },
    {
     "data": {
      "text/plain": [
       "{'1', '2', '3', '4', '5', '6', '7'}"
      ]
     },
     "execution_count": 58,
     "metadata": {},
     "output_type": "execute_result"
    }
   ],
   "source": [
    "#40. Create a set from user input.\n",
    "s1=set(input(\"enter set elements\"))\n",
    "s1"
   ]
  },
  {
   "cell_type": "code",
   "execution_count": 59,
   "id": "03a1287a-a45d-4e19-aedc-63dd899e28b1",
   "metadata": {},
   "outputs": [
    {
     "data": {
      "text/plain": [
       "set()"
      ]
     },
     "execution_count": 59,
     "metadata": {},
     "output_type": "execute_result"
    }
   ],
   "source": [
    "#41. Check if the intersection of two sets is empty.\n",
    "s1.intersection(s2)"
   ]
  },
  {
   "cell_type": "code",
   "execution_count": 60,
   "id": "33549dfd-dbb3-4574-849e-7446566d404d",
   "metadata": {},
   "outputs": [
    {
     "data": {
      "text/plain": [
       "{0, 1, 2, 3, 5}"
      ]
     },
     "execution_count": 60,
     "metadata": {},
     "output_type": "execute_result"
    }
   ],
   "source": [
    "#42. Create a set of the first 5 Fibonacci numbers.\n",
    "def fib_num(n):\n",
    "    if n<=1:\n",
    "        return n\n",
    "    else:\n",
    "        return fib_num(n-1)+fib_num(n-2)\n",
    "    \n",
    "fib_series=set(fib_num(i) for i in range(6))\n",
    "fib_series"
   ]
  },
  {
   "cell_type": "code",
   "execution_count": 61,
   "id": "352cd879-42c2-4339-880b-887be756dfdf",
   "metadata": {},
   "outputs": [
    {
     "data": {
      "text/plain": [
       "[1, 2, 3, 4, 5, 67, 45678]"
      ]
     },
     "execution_count": 61,
     "metadata": {},
     "output_type": "execute_result"
    }
   ],
   "source": [
    "#43. Remove duplicates from a list using sets.\n",
    "l=[1,2,3,4,5,67,2,3,4,5,67,45678]\n",
    "s1=set(l)\n",
    "list(s1)"
   ]
  },
  {
   "cell_type": "code",
   "execution_count": 64,
   "id": "fe4afa91-42f6-4ac0-95fc-db1d3af90dd3",
   "metadata": {},
   "outputs": [
    {
     "name": "stdout",
     "output_type": "stream",
     "text": [
      "True\n"
     ]
    }
   ],
   "source": [
    "#44. Check if two sets have the same elements, regardless of their count.\n",
    "s1={1,2,3,4,5,4,3,2}\n",
    "s2={5,4,3,2,1,2,3,4,2,5,3,4,1,3}\n",
    "print(s1==s2)"
   ]
  },
  {
   "cell_type": "code",
   "execution_count": 65,
   "id": "1f318a5c-39d0-4a55-b5c2-5410e75bb24a",
   "metadata": {},
   "outputs": [
    {
     "data": {
      "text/plain": [
       "{1, 2, 4, 8, 16, 32, 64, 128, 256, 512}"
      ]
     },
     "execution_count": 65,
     "metadata": {},
     "output_type": "execute_result"
    }
   ],
   "source": [
    "#45. Create a set of the first `n` powers of 2.\n",
    "n=10\n",
    "s1=set(2**i for i in range(n))\n",
    "s1\n"
   ]
  },
  {
   "cell_type": "code",
   "execution_count": 68,
   "id": "6f6cfde7-23e7-4498-b256-3277e0bf1d03",
   "metadata": {},
   "outputs": [
    {
     "data": {
      "text/plain": [
       "{1, 2, 3, 23}"
      ]
     },
     "execution_count": 68,
     "metadata": {},
     "output_type": "execute_result"
    }
   ],
   "source": [
    "#46. Find the common elements between a set and a list.\n",
    "lt=[1,2,3,4,5,23,23,3,4,5]\n",
    "s1={1,2,3,34,23}\n",
    "com_ele=s1.intersection(lt)\n",
    "com_ele"
   ]
  },
  {
   "cell_type": "code",
   "execution_count": 69,
   "id": "9ecdcaf4-9b87-4032-8048-b0a56194e5da",
   "metadata": {},
   "outputs": [
    {
     "data": {
      "text/plain": [
       "{0, 1, 3, 6, 10, 15, 21, 28, 36, 45}"
      ]
     },
     "execution_count": 69,
     "metadata": {},
     "output_type": "execute_result"
    }
   ],
   "source": [
    "#47. Create a set of the first `n` triangular numbers.\n",
    "s1=set(int(i*(i+1)/2) for i in range(n))\n",
    "n=10\n",
    "s1"
   ]
  },
  {
   "cell_type": "code",
   "execution_count": 70,
   "id": "4d786618-2ced-4e90-8420-947ca8a6affc",
   "metadata": {},
   "outputs": [
    {
     "data": {
      "text/plain": [
       "True"
      ]
     },
     "execution_count": 70,
     "metadata": {},
     "output_type": "execute_result"
    }
   ],
   "source": [
    "#48. Check if a set contains another set as a subset.\n",
    "s1={9,3,7,4,55,24,76,7923,3,667}\n",
    "s2={3,7,667,3,55,24}\n",
    "s2.issubset(s1)"
   ]
  },
  {
   "cell_type": "code",
   "execution_count": 71,
   "id": "2b4f375d-c39f-4bbf-ba76-ea4470e58090",
   "metadata": {},
   "outputs": [
    {
     "data": {
      "text/plain": [
       "{0, 1}"
      ]
     },
     "execution_count": 71,
     "metadata": {},
     "output_type": "execute_result"
    }
   ],
   "source": [
    "#49. Create a set of alternating 1s and 0s of length `n`.\n",
    "s1=set(i%2 for i in range(n))\n",
    "n=10\n",
    "s1"
   ]
  },
  {
   "cell_type": "code",
   "execution_count": 74,
   "id": "998a3a35-0015-4487-8575-433b5875a6cc",
   "metadata": {},
   "outputs": [
    {
     "data": {
      "text/plain": [
       "{1, 2, 3, 4, 5, 6, 7, 8, 9}"
      ]
     },
     "execution_count": 74,
     "metadata": {},
     "output_type": "execute_result"
    }
   ],
   "source": [
    "#50. Merge multiple sets into one.\n",
    "s1={1,2,3}\n",
    "s2={4,5,6}\n",
    "s3={7,8,9}\n",
    "s=s1.union(s2,s3)\n",
    "s"
   ]
  },
  {
   "cell_type": "code",
   "execution_count": null,
   "id": "c4db634d-6faa-483a-9c89-0f84687b652d",
   "metadata": {},
   "outputs": [],
   "source": [
    "#---------------------------------------end of Assignment 2----------------------------------------------------"
   ]
  }
 ],
 "metadata": {
  "kernelspec": {
   "display_name": "Python 3 (ipykernel)",
   "language": "python",
   "name": "python3"
  },
  "language_info": {
   "codemirror_mode": {
    "name": "ipython",
    "version": 3
   },
   "file_extension": ".py",
   "mimetype": "text/x-python",
   "name": "python",
   "nbconvert_exporter": "python",
   "pygments_lexer": "ipython3",
   "version": "3.10.8"
  }
 },
 "nbformat": 4,
 "nbformat_minor": 5
}
